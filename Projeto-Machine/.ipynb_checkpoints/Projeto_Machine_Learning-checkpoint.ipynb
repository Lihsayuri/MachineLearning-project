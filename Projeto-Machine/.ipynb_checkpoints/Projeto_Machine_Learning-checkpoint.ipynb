{
 "cells": [
  {
   "cell_type": "markdown",
   "metadata": {
    "id": "9f93073d"
   },
   "source": [
    "# Projeto Machine Learning: Competition - English Language Learning\n",
    "\n",
    "Alunos : Bernardo Cunha Capoferri, Guilherme Dantas Rameh e Lívia Sayuri Makuta.\n",
    "\n",
    "\n"
   ]
  },
  {
   "cell_type": "markdown",
   "metadata": {},
   "source": [
    "# Introdução\n",
    "\n",
    "O presente trabalho foi feito com base em uma competição a qual participamos: a **Feedback prize - English Language Learning**. O objetivo dessa competição consistia em avaliar a proficiência da escrita em inglês de alunos do nono ano ao terceiro ano do ensino médio, cujo inglês não é a língua nativa (English Language Learners ou ELLs). E para avaliar a proficiência desses alunos, seis competências eram avaliadas em notas de 1 a 5 em intervalos de 0.5 ponto: a coesão, a sintaxe, o vocabulário, a fraseologia, a gramática e convenções. Isso segundo os organizadores da competição ajuda os estudantes a receber mais feedbacks precisos sobre seu desenvolvimento no aprendizado da linaguagem e acelerar o ciclo de avaliação dos professores.\n",
    "\n",
    "Tendo esse propósito, a Universidade Vanderbilt e o *The Learning Agency Lab* fizeram uma parceria para realizar a competição e oferecer aos cientistas de dados a oportunidade de apoiar esses estudantes (ELLs) através de suas habilidades em Machine Learning e em processamento de linguagem. Dessa forma, os resultados e ferramentas desenvolvidas poderiam ser utilizadas por professores para aliviar a carga de correção e para apoiar e ajudar os estudantes a serem avaliados de maneira mais específica levando em consideração o contexto do seu nível de proficiência, isso porque a fluência de um falante não nativo é diferente da fluência de um falante nativo. \n",
    "\n",
    "Assim, o objetivo desse trabalho é construir um modelo de Machine Learning capaz de prever a avaliação de textos dos ELLs. \n"
   ]
  },
  {
   "cell_type": "markdown",
   "metadata": {},
   "source": [
    "# Análise Exploratória"
   ]
  },
  {
   "cell_type": "markdown",
   "metadata": {},
   "source": [
    "Antes de tudo começaremos importando bibliotecas necessárias para realizar a análise exploratória."
   ]
  },
  {
   "cell_type": "code",
   "execution_count": 1,
   "metadata": {
    "id": "ffca220f"
   },
   "outputs": [],
   "source": [
    "import pandas as pd\n",
    "import matplotlib.pyplot as plt\n",
    "import numpy as np"
   ]
  },
  {
   "cell_type": "code",
   "execution_count": null,
   "metadata": {
    "colab": {
     "base_uri": "https://localhost:8080/",
     "height": 35
    },
    "id": "LXXM7UMKDPw6",
    "outputId": "f296e332-6ebb-4d7c-dc8d-a9adb9d26336"
   },
   "outputs": [],
   "source": [
    "import os\n",
    "\n",
    "os.getcwd()"
   ]
  },
  {
   "cell_type": "markdown",
   "metadata": {},
   "source": [
    "Feito isso, a base de dados de treinamento (que já foi disponibilizada pela competição) foi carregada em um DataFrame para facilitar a análise e a visualização. "
   ]
  },
  {
   "cell_type": "code",
   "execution_count": 3,
   "metadata": {
    "id": "db138544"
   },
   "outputs": [],
   "source": [
    "df = pd.read_csv('./train.csv')"
   ]
  },
  {
   "cell_type": "code",
   "execution_count": 4,
   "metadata": {
    "colab": {
     "base_uri": "https://localhost:8080/",
     "height": 1000
    },
    "id": "3c47e366",
    "outputId": "29c49540-956a-40f9-cf14-5f1cd914b76f"
   },
   "outputs": [
    {
     "data": {
      "text/html": [
       "<div>\n",
       "<style scoped>\n",
       "    .dataframe tbody tr th:only-of-type {\n",
       "        vertical-align: middle;\n",
       "    }\n",
       "\n",
       "    .dataframe tbody tr th {\n",
       "        vertical-align: top;\n",
       "    }\n",
       "\n",
       "    .dataframe thead th {\n",
       "        text-align: right;\n",
       "    }\n",
       "</style>\n",
       "<table border=\"1\" class=\"dataframe\">\n",
       "  <thead>\n",
       "    <tr style=\"text-align: right;\">\n",
       "      <th></th>\n",
       "      <th>text_id</th>\n",
       "      <th>full_text</th>\n",
       "      <th>cohesion</th>\n",
       "      <th>syntax</th>\n",
       "      <th>vocabulary</th>\n",
       "      <th>phraseology</th>\n",
       "      <th>grammar</th>\n",
       "      <th>conventions</th>\n",
       "    </tr>\n",
       "  </thead>\n",
       "  <tbody>\n",
       "    <tr>\n",
       "      <th>0</th>\n",
       "      <td>0016926B079C</td>\n",
       "      <td>I think that students would benefit from learn...</td>\n",
       "      <td>3.5</td>\n",
       "      <td>3.5</td>\n",
       "      <td>3.0</td>\n",
       "      <td>3.0</td>\n",
       "      <td>4.0</td>\n",
       "      <td>3.0</td>\n",
       "    </tr>\n",
       "    <tr>\n",
       "      <th>1</th>\n",
       "      <td>0022683E9EA5</td>\n",
       "      <td>When a problem is a change you have to let it ...</td>\n",
       "      <td>2.5</td>\n",
       "      <td>2.5</td>\n",
       "      <td>3.0</td>\n",
       "      <td>2.0</td>\n",
       "      <td>2.0</td>\n",
       "      <td>2.5</td>\n",
       "    </tr>\n",
       "    <tr>\n",
       "      <th>2</th>\n",
       "      <td>00299B378633</td>\n",
       "      <td>Dear, Principal\\n\\nIf u change the school poli...</td>\n",
       "      <td>3.0</td>\n",
       "      <td>3.5</td>\n",
       "      <td>3.0</td>\n",
       "      <td>3.0</td>\n",
       "      <td>3.0</td>\n",
       "      <td>2.5</td>\n",
       "    </tr>\n",
       "    <tr>\n",
       "      <th>3</th>\n",
       "      <td>003885A45F42</td>\n",
       "      <td>The best time in life is when you become yours...</td>\n",
       "      <td>4.5</td>\n",
       "      <td>4.5</td>\n",
       "      <td>4.5</td>\n",
       "      <td>4.5</td>\n",
       "      <td>4.0</td>\n",
       "      <td>5.0</td>\n",
       "    </tr>\n",
       "    <tr>\n",
       "      <th>4</th>\n",
       "      <td>0049B1DF5CCC</td>\n",
       "      <td>Small act of kindness can impact in other peop...</td>\n",
       "      <td>2.5</td>\n",
       "      <td>3.0</td>\n",
       "      <td>3.0</td>\n",
       "      <td>3.0</td>\n",
       "      <td>2.5</td>\n",
       "      <td>2.5</td>\n",
       "    </tr>\n",
       "    <tr>\n",
       "      <th>...</th>\n",
       "      <td>...</td>\n",
       "      <td>...</td>\n",
       "      <td>...</td>\n",
       "      <td>...</td>\n",
       "      <td>...</td>\n",
       "      <td>...</td>\n",
       "      <td>...</td>\n",
       "      <td>...</td>\n",
       "    </tr>\n",
       "    <tr>\n",
       "      <th>3906</th>\n",
       "      <td>FFD29828A873</td>\n",
       "      <td>I believe using cellphones in class for educat...</td>\n",
       "      <td>2.5</td>\n",
       "      <td>3.0</td>\n",
       "      <td>3.0</td>\n",
       "      <td>3.5</td>\n",
       "      <td>2.5</td>\n",
       "      <td>2.5</td>\n",
       "    </tr>\n",
       "    <tr>\n",
       "      <th>3907</th>\n",
       "      <td>FFD9A83B0849</td>\n",
       "      <td>Working alone, students do not have to argue w...</td>\n",
       "      <td>4.0</td>\n",
       "      <td>4.0</td>\n",
       "      <td>4.0</td>\n",
       "      <td>4.0</td>\n",
       "      <td>3.5</td>\n",
       "      <td>3.0</td>\n",
       "    </tr>\n",
       "    <tr>\n",
       "      <th>3908</th>\n",
       "      <td>FFDC4011AC9C</td>\n",
       "      <td>\"A problem is a chance for you to do your best...</td>\n",
       "      <td>2.5</td>\n",
       "      <td>3.0</td>\n",
       "      <td>3.0</td>\n",
       "      <td>3.0</td>\n",
       "      <td>3.5</td>\n",
       "      <td>3.0</td>\n",
       "    </tr>\n",
       "    <tr>\n",
       "      <th>3909</th>\n",
       "      <td>FFE16D704B16</td>\n",
       "      <td>Many people disagree with Albert Schweitzer's ...</td>\n",
       "      <td>4.0</td>\n",
       "      <td>4.5</td>\n",
       "      <td>4.5</td>\n",
       "      <td>4.0</td>\n",
       "      <td>4.5</td>\n",
       "      <td>4.5</td>\n",
       "    </tr>\n",
       "    <tr>\n",
       "      <th>3910</th>\n",
       "      <td>FFED00D6E0BD</td>\n",
       "      <td>Do you think that failure is the main thing fo...</td>\n",
       "      <td>3.5</td>\n",
       "      <td>2.5</td>\n",
       "      <td>3.5</td>\n",
       "      <td>3.0</td>\n",
       "      <td>3.0</td>\n",
       "      <td>3.5</td>\n",
       "    </tr>\n",
       "  </tbody>\n",
       "</table>\n",
       "<p>3911 rows × 8 columns</p>\n",
       "</div>"
      ],
      "text/plain": [
       "           text_id                                          full_text  \\\n",
       "0     0016926B079C  I think that students would benefit from learn...   \n",
       "1     0022683E9EA5  When a problem is a change you have to let it ...   \n",
       "2     00299B378633  Dear, Principal\\n\\nIf u change the school poli...   \n",
       "3     003885A45F42  The best time in life is when you become yours...   \n",
       "4     0049B1DF5CCC  Small act of kindness can impact in other peop...   \n",
       "...            ...                                                ...   \n",
       "3906  FFD29828A873  I believe using cellphones in class for educat...   \n",
       "3907  FFD9A83B0849  Working alone, students do not have to argue w...   \n",
       "3908  FFDC4011AC9C  \"A problem is a chance for you to do your best...   \n",
       "3909  FFE16D704B16  Many people disagree with Albert Schweitzer's ...   \n",
       "3910  FFED00D6E0BD  Do you think that failure is the main thing fo...   \n",
       "\n",
       "      cohesion  syntax  vocabulary  phraseology  grammar  conventions  \n",
       "0          3.5     3.5         3.0          3.0      4.0          3.0  \n",
       "1          2.5     2.5         3.0          2.0      2.0          2.5  \n",
       "2          3.0     3.5         3.0          3.0      3.0          2.5  \n",
       "3          4.5     4.5         4.5          4.5      4.0          5.0  \n",
       "4          2.5     3.0         3.0          3.0      2.5          2.5  \n",
       "...        ...     ...         ...          ...      ...          ...  \n",
       "3906       2.5     3.0         3.0          3.5      2.5          2.5  \n",
       "3907       4.0     4.0         4.0          4.0      3.5          3.0  \n",
       "3908       2.5     3.0         3.0          3.0      3.5          3.0  \n",
       "3909       4.0     4.5         4.5          4.0      4.5          4.5  \n",
       "3910       3.5     2.5         3.5          3.0      3.0          3.5  \n",
       "\n",
       "[3911 rows x 8 columns]"
      ]
     },
     "execution_count": 4,
     "metadata": {},
     "output_type": "execute_result"
    }
   ],
   "source": [
    "df"
   ]
  },
  {
   "cell_type": "markdown",
   "metadata": {
    "id": "61358c0f"
   },
   "source": [
    "Feito isso, após ver uma amostra dos dados com os quais trabalharemos, é preciso conferir sua qualidade: se existem dados faltantes e o tipo de cada dado."
   ]
  },
  {
   "cell_type": "code",
   "execution_count": 5,
   "metadata": {
    "colab": {
     "base_uri": "https://localhost:8080/"
    },
    "id": "461f0d54",
    "outputId": "42996346-d0aa-4d07-fcf8-8cb0c430411d"
   },
   "outputs": [
    {
     "name": "stdout",
     "output_type": "stream",
     "text": [
      "<class 'pandas.core.frame.DataFrame'>\n",
      "RangeIndex: 3911 entries, 0 to 3910\n",
      "Data columns (total 8 columns):\n",
      " #   Column       Non-Null Count  Dtype  \n",
      "---  ------       --------------  -----  \n",
      " 0   text_id      3911 non-null   object \n",
      " 1   full_text    3911 non-null   object \n",
      " 2   cohesion     3911 non-null   float64\n",
      " 3   syntax       3911 non-null   float64\n",
      " 4   vocabulary   3911 non-null   float64\n",
      " 5   phraseology  3911 non-null   float64\n",
      " 6   grammar      3911 non-null   float64\n",
      " 7   conventions  3911 non-null   float64\n",
      "dtypes: float64(6), object(2)\n",
      "memory usage: 244.6+ KB\n"
     ]
    }
   ],
   "source": [
    "df.info()"
   ]
  },
  {
   "cell_type": "markdown",
   "metadata": {
    "id": "215c9762"
   },
   "source": [
    "Como pôde ser visto com o comando acima, não há nenhum dado faltante. Além disso, a maioria dos dados é float - ou seja, são dados numéricos - o que já era esperado, já que essas são as notas para cada uma das seis competências analisadas. Ademais, também existem dados do tipo object - que são strings - e que representam os textos a serem analisados e os identificadores desses textos.\n",
    "\n",
    "Para tornar esses dados mais visuais, podemos construir histogramas para ter uma ideia de como é a avaliação desses textos. Isso foi feito abaixo:"
   ]
  },
  {
   "cell_type": "code",
   "execution_count": 6,
   "metadata": {
    "colab": {
     "base_uri": "https://localhost:8080/"
    },
    "id": "81c602b8",
    "outputId": "d62a84c9-51e4-42a0-be99-d69b5917b9e8"
   },
   "outputs": [
    {
     "data": {
      "text/plain": [
       "62.53798845501828"
      ]
     },
     "execution_count": 6,
     "metadata": {},
     "output_type": "execute_result"
    }
   ],
   "source": [
    "np.sqrt(len(df.index))"
   ]
  },
  {
   "cell_type": "code",
   "execution_count": 7,
   "metadata": {
    "colab": {
     "base_uri": "https://localhost:8080/",
     "height": 535
    },
    "id": "813ce8ee",
    "outputId": "020bff5d-445e-4bd7-8d9d-5aaa183d28ea"
   },
   "outputs": [
    {
     "data": {
      "image/png": "[encoded data removed]",
      "text/plain": [
       "<Figure size 2000x1500 with 6 Axes>"
      ]
     },
     "metadata": {},
     "output_type": "display_data"
    }
   ],
   "source": [
    "df.hist(bins=62, figsize=(20, 15))\n",
    "plt.show()"
   ]
  },
  {
   "cell_type": "markdown",
   "metadata": {},
   "source": [
    "Com essa visualização é notável o fato de que não há nenhuma discrepância e nem grande variação nos valores dos dados, até porque a escala de avaliação varia de 1 a 5 com intervalos de 0.5 ponto. Além disso, é perceptível uma padronização e uma distribuição praticamente normal, de tal forma que a maioria das notas se encontra entre 2.5 e 3.5 para todas as competências."
   ]
  },
  {
   "cell_type": "markdown",
   "metadata": {},
   "source": [
    "Como os dados já foram provisionados e selecionados pela *The Learning Agency Lab*, não é necessário fazer mais nenhuma modificação. Mas caso fosse necessário construir esses dados, com certeza precisaríamos utilizar algumas técnicas como Imputers para preencher dados faltantes e e Scalers para padronizá-los - já que em muitos casos a escala dos dados é muito diferente o que atrapalha na construção e execução de modelos.\n"
   ]
  },
  {
   "cell_type": "markdown",
   "metadata": {
    "id": "4346f89c"
   },
   "source": [
    "Como não é o caso, já é possível iniciar a construção do modelo. Isso porque os principais passos em um projeto de Machine Learning são:\n",
    "\n",
    "1) Olhar para o cenário geral.\n",
    "\n",
    "2) Adquirir os dados.\n",
    "\n",
    "3) Descobrir e visualizar os dados para obter insights.\n",
    "\n",
    "4) Preparar os dados para os algoritmos de Machine Learning.\n",
    "\n",
    "5) Selecionar um modelo e treiná-lo.\n",
    "\n",
    "6) Ajustar o modelo (hiperparâmetros, normalização, etc).\n",
    "\n",
    "7) Apresentar a solução.\n",
    "\n",
    "8) Iniciar, monitorar e manter o seu sistema.\n",
    "\n",
    "\n",
    "Como as 3 primeiras etapas foram facilitadas pelos realizadores da competição, podemos começar a preparar os dados para os algoritmos que constituirão os modelos a serem analisadas, a fim de selecionar aquele com o melhor desempenho. "
   ]
  },
  {
   "cell_type": "markdown",
   "metadata": {},
   "source": [
    "# Preparação dos dados para os modelos "
   ]
  },
  {
   "cell_type": "markdown",
   "metadata": {},
   "source": [
    "Como todo projeto de Machine Learning, precisamos de features (características em português) para construir modelos e depois treiná-los e avaliá-los visando o melhor desempenho. No caso em que está sendo trabalhado, queremos prever as notas com base nos textos dos alunos, logo nossas features são esses textos. Mas como os dados a serem preditos (*target*) são numéricos, de alguma forma é preciso transformar todos esses textos em números.\n",
    "\n",
    "A fim de fazer isso, existem uma série de bibliotecas de podem ser utilizadas para processar essas informações, como : Tensorflow, Hugging Face. No projeto, utilizamos a biblioteca Tensorflow que possui um módulo específico - o tensorflow_text - para processar textos , isto é, tranformar todas as *strings* em features numéricas. "
   ]
  },
  {
   "cell_type": "markdown",
   "metadata": {},
   "source": [
    "Assim, começamos importando todas as bibliotecas e módulo necessários."
   ]
  },
  {
   "cell_type": "code",
   "execution_count": 9,
   "metadata": {
    "id": "9554fde3"
   },
   "outputs": [
    {
     "name": "stderr",
     "output_type": "stream",
     "text": [
      "2022-11-14 16:11:44.351997: I tensorflow/core/platform/cpu_feature_guard.cc:193] This TensorFlow binary is optimized with oneAPI Deep Neural Network Library (oneDNN) to use the following CPU instructions in performance-critical operations:  AVX2 AVX_VNNI FMA\n",
      "To enable them in other operations, rebuild TensorFlow with the appropriate compiler flags.\n",
      "2022-11-14 16:11:44.492614: I tensorflow/core/util/util.cc:169] oneDNN custom operations are on. You may see slightly different numerical results due to floating-point round-off errors from different computation orders. To turn them off, set the environment variable `TF_ENABLE_ONEDNN_OPTS=0`.\n",
      "2022-11-14 16:11:44.527062: E tensorflow/stream_executor/cuda/cuda_blas.cc:2981] Unable to register cuBLAS factory: Attempting to register factory for plugin cuBLAS when one has already been registered\n",
      "2022-11-14 16:11:44.958937: W tensorflow/stream_executor/platform/default/dso_loader.cc:64] Could not load dynamic library 'libnvinfer.so.7'; dlerror: libnvinfer.so.7: cannot open shared object file: No such file or directory; LD_LIBRARY_PATH: :/home/bernardo/miniconda3/envs/tf/lib/\n",
      "2022-11-14 16:11:44.958974: W tensorflow/stream_executor/platform/default/dso_loader.cc:64] Could not load dynamic library 'libnvinfer_plugin.so.7'; dlerror: libnvinfer_plugin.so.7: cannot open shared object file: No such file or directory; LD_LIBRARY_PATH: :/home/bernardo/miniconda3/envs/tf/lib/\n",
      "2022-11-14 16:11:44.958977: W tensorflow/compiler/tf2tensorrt/utils/py_utils.cc:38] TF-TRT Warning: Cannot dlopen some TensorRT libraries. If you would like to use Nvidia GPU with TensorRT, please make sure the missing libraries mentioned above are installed properly.\n"
     ]
    }
   ],
   "source": [
    "import tensorflow_hub as hub\n",
    "import tensorflow as tf\n",
    "import tensorflow_text as text  # Registers the ops."
   ]
  },
  {
   "cell_type": "markdown",
   "metadata": {},
   "source": [
    "Mas antes de fazer o processamento dos textos, devemos separar a variável independente (os textos) das variáveis dependentes (todos os parâmetros de avaliação)."
   ]
  },
  {
   "cell_type": "code",
   "execution_count": 11,
   "metadata": {
    "colab": {
     "base_uri": "https://localhost:8080/"
    },
    "id": "5c9b1362",
    "outputId": "be018a8c-98f1-45af-d2b8-63bacc93d421",
    "scrolled": true
   },
   "outputs": [
    {
     "data": {
      "text/plain": [
       "0       I think that students would benefit from learn...\n",
       "1       When a problem is a change you have to let it ...\n",
       "2       Dear, Principal\\n\\nIf u change the school poli...\n",
       "3       The best time in life is when you become yours...\n",
       "4       Small act of kindness can impact in other peop...\n",
       "                              ...                        \n",
       "3906    I believe using cellphones in class for educat...\n",
       "3907    Working alone, students do not have to argue w...\n",
       "3908    \"A problem is a chance for you to do your best...\n",
       "3909    Many people disagree with Albert Schweitzer's ...\n",
       "3910    Do you think that failure is the main thing fo...\n",
       "Name: full_text, Length: 3911, dtype: object"
      ]
     },
     "execution_count": 11,
     "metadata": {},
     "output_type": "execute_result"
    }
   ],
   "source": [
    "english_sentences = df['full_text']\n",
    "english_sentences"
   ]
  },
  {
   "cell_type": "markdown",
   "metadata": {},
   "source": [
    "### Breve parênteses sobre uso de GPU no Tensorflow\n",
    "\n",
    "Caso esteja usando tensorflow com GPU habilitado, as próximas 3 células permitem verificar se o kernel esta detectando-as e limitando o uso de sua memória a 1 Gb para calcular as features. \n",
    "\n",
    "É interessante o uso de *graphical processing units* (GPU) para realizar estes cálculos já que sua arquitetura computacional é propícia ao cálculo com matrizes, que são muito utilizados em modelos de *deep-learning* como é o caso do Keras, assim os cálculos são feitos muito mais rapidamente."
   ]
  },
  {
   "cell_type": "code",
   "execution_count": null,
   "metadata": {},
   "outputs": [],
   "source": [
    "print(\"Number of GPUs available: \", len(tf.config.list_physical_devices('GPU')))"
   ]
  },
  {
   "cell_type": "code",
   "execution_count": 15,
   "metadata": {},
   "outputs": [
    {
     "name": "stdout",
     "output_type": "stream",
     "text": [
      "[name: \"/device:CPU:0\"\n",
      "device_type: \"CPU\"\n",
      "memory_limit: 268435456\n",
      "locality {\n",
      "}\n",
      "incarnation: 13891298650177907149\n",
      "xla_global_id: -1\n",
      "]\n"
     ]
    },
    {
     "name": "stderr",
     "output_type": "stream",
     "text": [
      "2022-11-14 16:11:54.789139: I tensorflow/core/platform/cpu_feature_guard.cc:193] This TensorFlow binary is optimized with oneAPI Deep Neural Network Library (oneDNN) to use the following CPU instructions in performance-critical operations:  AVX2 AVX_VNNI FMA\n",
      "To enable them in other operations, rebuild TensorFlow with the appropriate compiler flags.\n"
     ]
    }
   ],
   "source": [
    "from tensorflow.python.client import device_lib \n",
    "print(device_lib.list_local_devices())"
   ]
  },
  {
   "cell_type": "code",
   "execution_count": 16,
   "metadata": {},
   "outputs": [],
   "source": [
    "gpus = tf.config.list_physical_devices('GPU')\n",
    "if gpus:\n",
    "    # Restrict TensorFlow to only allocate 1GB of memory on the first GPU\n",
    "    try:\n",
    "        tf.config.set_logical_device_configuration(\n",
    "            gpus[0],\n",
    "            [tf.config.LogicalDeviceConfiguration(memory_limit=1024)])\n",
    "        logical_gpus = tf.config.list_logical_devices('GPU')\n",
    "        print(len(gpus), \"Physical GPUs,\", len(logical_gpus), \"Logical GPUs\")\n",
    "    except RuntimeError as e:\n",
    "        # Virtual devices must be set before GPUs have been initialized\n",
    "        print(e)\n"
   ]
  },
  {
   "cell_type": "markdown",
   "metadata": {},
   "source": [
    "## Voltando ao processamento dos textos\n",
    "\n",
    "Após o parênteses da GPU (que é aconselhado usar), podemos voltar à construção do modelo. Como dito antes, a biblioteca a ser utilizada para isso é a TensorFlow que possui o módulo tensorflow_text que utilizaremos a fim de colocar em prática o sentenceT5, que é um sentence encoder para inglês publicado pelo Google que codifica textos em vetores multi-dimensionais de 768 dimensões que podem ser usados para classificação textual, similaridade semântica, agrupamentos e outras tarefas de processamento de linguagem. Dessa forma, será perfeito para o que precisamos fazer, textos com bom desempenho possuem similaridades semânticas e são possivelmente agrupados através de um padrão que seguem. \n",
    "\n",
    "Essa codificação foi feita abaixo para os 3911 textos de treinamento:"
   ]
  },
  {
   "cell_type": "code",
   "execution_count": 17,
   "metadata": {
    "colab": {
     "base_uri": "https://localhost:8080/"
    },
    "id": "c92d95ee",
    "outputId": "8584f190-b6da-4bd7-b15c-5785deed73bf"
   },
   "outputs": [
    {
     "name": "stdout",
     "output_type": "stream",
     "text": [
      "WARNING:tensorflow:Please fix your imports. Module tensorflow.python.training.tracking.data_structures has been moved to tensorflow.python.trackable.data_structures. The old module will be deleted in version 2.11.\n"
     ]
    },
    {
     "name": "stderr",
     "output_type": "stream",
     "text": [
      "WARNING:absl:Importing a function (__inference_<lambda>_9720) with ops with unsaved custom gradients. Will likely fail if a gradient is requested.\n",
      "WARNING:absl:Importing a function (__inference_<lambda>_3354) with ops with unsaved custom gradients. Will likely fail if a gradient is requested.\n",
      "WARNING:absl:Importing a function (__inference_<lambda>_6722) with ops with unsaved custom gradients. Will likely fail if a gradient is requested.\n",
      "2022-11-14 16:11:58.704270: I tensorflow/compiler/xla/service/service.cc:173] XLA service 0x7fc624007a70 initialized for platform Host (this does not guarantee that XLA will be used). Devices:\n",
      "2022-11-14 16:11:58.704288: I tensorflow/compiler/xla/service/service.cc:181]   StreamExecutor device (0): Host, Default Version\n",
      "2022-11-14 16:11:58.793995: I tensorflow/compiler/mlir/tensorflow/utils/dump_mlir_util.cc:268] disabling MLIR crash reproducer, set env var `MLIR_CRASH_REPRODUCER_DIRECTORY` to enable.\n",
      "2022-11-14 16:12:01.904657: I tensorflow/compiler/jit/xla_compilation_cache.cc:476] Compiled cluster using XLA!  This line is logged at most once for the lifetime of the process.\n"
     ]
    },
    {
     "name": "stdout",
     "output_type": "stream",
     "text": [
      "False\n"
     ]
    }
   ],
   "source": [
    "hub_url = \"https://tfhub.dev/google/sentence-t5/st5-base/1\"\n",
    "\n",
    "encoder = hub.KerasLayer(hub_url)\n",
    "tensor_list = []\n",
    "\n",
    "not_finish = True\n",
    "\n",
    "i = 0\n",
    "while not_finish:\n",
    "    tensor_list.append(encoder(english_sentences[i:i+1])[0][0])\n",
    "    if i == 3910:\n",
    "        not_finish = False\n",
    "    i +=1\n",
    "print(not_finish)"
   ]
  },
  {
   "cell_type": "markdown",
   "metadata": {},
   "source": [
    "Como resultado, a codificação retorna vetores de 768 dimensões que podem ser chamados de tensores, mas como nos próximos passos iremos testar esses tensores em modelos de regressão, como a regressão linear, a random forest, entre outros, é necessário transformar esses dados em uma lista de arrays - já que esses modelos não trabalham com tensores. Por isso, utilizando a biblioteca numpy, os dados foram transformados em arrays:"
   ]
  },
  {
   "cell_type": "code",
   "execution_count": 19,
   "metadata": {
    "id": "f73b46ed"
   },
   "outputs": [],
   "source": [
    "tensor_list = [item.numpy() for item in tensor_list]"
   ]
  },
  {
   "cell_type": "markdown",
   "metadata": {},
   "source": [
    "Para não ter que sempre rodar a célula acima, salvamos também esses valores em uma arquivo no formato .txt :"
   ]
  },
  {
   "cell_type": "code",
   "execution_count": 21,
   "metadata": {
    "id": "d3e06a06"
   },
   "outputs": [],
   "source": [
    "with open(\"tensor_values.txt\", \"w\") as output:\n",
    "    output.write(str(tensor_list))"
   ]
  },
  {
   "cell_type": "markdown",
   "metadata": {
    "id": "5d50ce5c"
   },
   "source": [
    "Depois de finalmente termos gerado nossas features numéricas, agora é possível utilizá-las para treinar os modelos com regressores. Sendo assim, essas features serão os dados de treinamento:\n"
   ]
  },
  {
   "cell_type": "code",
   "execution_count": 22,
   "metadata": {
    "id": "f9d0724d"
   },
   "outputs": [],
   "source": [
    "X_train = tensor_list"
   ]
  },
  {
   "cell_type": "markdown",
   "metadata": {
    "id": "559920da"
   },
   "source": [
    "E antes de começar a treinar e testar os modelos, também precisamos separar apenas as variáveis dependentes (que são o target) e que serão utilizadas para fazer parte desse modelo de aprendizado supervisionado."
   ]
  },
  {
   "cell_type": "code",
   "execution_count": 23,
   "metadata": {
    "colab": {
     "base_uri": "https://localhost:8080/",
     "height": 424
    },
    "id": "79578ec4",
    "outputId": "a3a5ac49-1877-4574-b4cb-f722929f484e"
   },
   "outputs": [
    {
     "data": {
      "text/html": [
       "<div>\n",
       "<style scoped>\n",
       "    .dataframe tbody tr th:only-of-type {\n",
       "        vertical-align: middle;\n",
       "    }\n",
       "\n",
       "    .dataframe tbody tr th {\n",
       "        vertical-align: top;\n",
       "    }\n",
       "\n",
       "    .dataframe thead th {\n",
       "        text-align: right;\n",
       "    }\n",
       "</style>\n",
       "<table border=\"1\" class=\"dataframe\">\n",
       "  <thead>\n",
       "    <tr style=\"text-align: right;\">\n",
       "      <th></th>\n",
       "      <th>cohesion</th>\n",
       "      <th>syntax</th>\n",
       "      <th>vocabulary</th>\n",
       "      <th>phraseology</th>\n",
       "      <th>grammar</th>\n",
       "      <th>conventions</th>\n",
       "    </tr>\n",
       "  </thead>\n",
       "  <tbody>\n",
       "    <tr>\n",
       "      <th>0</th>\n",
       "      <td>3.5</td>\n",
       "      <td>3.5</td>\n",
       "      <td>3.0</td>\n",
       "      <td>3.0</td>\n",
       "      <td>4.0</td>\n",
       "      <td>3.0</td>\n",
       "    </tr>\n",
       "    <tr>\n",
       "      <th>1</th>\n",
       "      <td>2.5</td>\n",
       "      <td>2.5</td>\n",
       "      <td>3.0</td>\n",
       "      <td>2.0</td>\n",
       "      <td>2.0</td>\n",
       "      <td>2.5</td>\n",
       "    </tr>\n",
       "    <tr>\n",
       "      <th>2</th>\n",
       "      <td>3.0</td>\n",
       "      <td>3.5</td>\n",
       "      <td>3.0</td>\n",
       "      <td>3.0</td>\n",
       "      <td>3.0</td>\n",
       "      <td>2.5</td>\n",
       "    </tr>\n",
       "    <tr>\n",
       "      <th>3</th>\n",
       "      <td>4.5</td>\n",
       "      <td>4.5</td>\n",
       "      <td>4.5</td>\n",
       "      <td>4.5</td>\n",
       "      <td>4.0</td>\n",
       "      <td>5.0</td>\n",
       "    </tr>\n",
       "    <tr>\n",
       "      <th>4</th>\n",
       "      <td>2.5</td>\n",
       "      <td>3.0</td>\n",
       "      <td>3.0</td>\n",
       "      <td>3.0</td>\n",
       "      <td>2.5</td>\n",
       "      <td>2.5</td>\n",
       "    </tr>\n",
       "    <tr>\n",
       "      <th>...</th>\n",
       "      <td>...</td>\n",
       "      <td>...</td>\n",
       "      <td>...</td>\n",
       "      <td>...</td>\n",
       "      <td>...</td>\n",
       "      <td>...</td>\n",
       "    </tr>\n",
       "    <tr>\n",
       "      <th>3906</th>\n",
       "      <td>2.5</td>\n",
       "      <td>3.0</td>\n",
       "      <td>3.0</td>\n",
       "      <td>3.5</td>\n",
       "      <td>2.5</td>\n",
       "      <td>2.5</td>\n",
       "    </tr>\n",
       "    <tr>\n",
       "      <th>3907</th>\n",
       "      <td>4.0</td>\n",
       "      <td>4.0</td>\n",
       "      <td>4.0</td>\n",
       "      <td>4.0</td>\n",
       "      <td>3.5</td>\n",
       "      <td>3.0</td>\n",
       "    </tr>\n",
       "    <tr>\n",
       "      <th>3908</th>\n",
       "      <td>2.5</td>\n",
       "      <td>3.0</td>\n",
       "      <td>3.0</td>\n",
       "      <td>3.0</td>\n",
       "      <td>3.5</td>\n",
       "      <td>3.0</td>\n",
       "    </tr>\n",
       "    <tr>\n",
       "      <th>3909</th>\n",
       "      <td>4.0</td>\n",
       "      <td>4.5</td>\n",
       "      <td>4.5</td>\n",
       "      <td>4.0</td>\n",
       "      <td>4.5</td>\n",
       "      <td>4.5</td>\n",
       "    </tr>\n",
       "    <tr>\n",
       "      <th>3910</th>\n",
       "      <td>3.5</td>\n",
       "      <td>2.5</td>\n",
       "      <td>3.5</td>\n",
       "      <td>3.0</td>\n",
       "      <td>3.0</td>\n",
       "      <td>3.5</td>\n",
       "    </tr>\n",
       "  </tbody>\n",
       "</table>\n",
       "<p>3911 rows × 6 columns</p>\n",
       "</div>"
      ],
      "text/plain": [
       "      cohesion  syntax  vocabulary  phraseology  grammar  conventions\n",
       "0          3.5     3.5         3.0          3.0      4.0          3.0\n",
       "1          2.5     2.5         3.0          2.0      2.0          2.5\n",
       "2          3.0     3.5         3.0          3.0      3.0          2.5\n",
       "3          4.5     4.5         4.5          4.5      4.0          5.0\n",
       "4          2.5     3.0         3.0          3.0      2.5          2.5\n",
       "...        ...     ...         ...          ...      ...          ...\n",
       "3906       2.5     3.0         3.0          3.5      2.5          2.5\n",
       "3907       4.0     4.0         4.0          4.0      3.5          3.0\n",
       "3908       2.5     3.0         3.0          3.0      3.5          3.0\n",
       "3909       4.0     4.5         4.5          4.0      4.5          4.5\n",
       "3910       3.5     2.5         3.5          3.0      3.0          3.5\n",
       "\n",
       "[3911 rows x 6 columns]"
      ]
     },
     "execution_count": 23,
     "metadata": {},
     "output_type": "execute_result"
    }
   ],
   "source": [
    "# Split the y\n",
    "\n",
    "df_copy = df.copy()\n",
    "y_train = df_copy.drop(['full_text', 'text_id'], axis=1)\n",
    "y_train"
   ]
  },
  {
   "cell_type": "markdown",
   "metadata": {},
   "source": [
    "Em posse dos dados de treinamento (tanto o x que são as variáveis independentes quanto o y que são as variáveis dependentes), agora é possível escolher modelos. "
   ]
  },
  {
   "cell_type": "markdown",
   "metadata": {},
   "source": [
    "# Escolhendo um modelo\n",
    "\n",
    "Para encontrar o melhor modelo para os dados, serão feitas uma série de testes e validações cruzadas para encontrar quele que apresenta um desempenho melhor do que os demais. Mas antes, o que define um modelo melhor? Como estamos trabalhando com regressões, as métricas de avaliação dos modelos serão a *negative mean squared errors*, dessa forma, quanto menor o módulo desse error, melhor terá sido o desempenho do modelo. \n",
    "\n",
    "### Validação cruzada \n",
    "\n",
    "Além disso, é importante salientar a funcionalidade da validação cruzada. Isso porque, para escolher um bom modelo, isto é as regras de construção da fronteira que vai decidir algo de acordo com os dados que tem, como citado anteriormente precisamos de alguma forma ter alguma métrica - no presente contexto a *negative mean squared errors* -  que nos indique que algum modelo é melhor que outro. Para isso podemos estimar erros e caso um erre menos que outro, então temos o melhor modelo selecionado. Mas jamais podemos usar os dados de teste para estimar isso, porque provavelmente mesmo que sem querer poderíamos observar algum padrão e querer incorporá-lo nas nossas decisões de projeto e aí estaríamos nos enganando com um resultado muito bom - exatamente por ajustar o modelo para isso. \n",
    "\n",
    "O problema é o seguinte: precisamos treinar o modelo em um conjunto de dados e testar em outro. Mas o que fazer então se tudo o que temos é o conjunto de treinamento? Podemos utilizar a validação cruzada. Por meio dela é possível dividir novamente o conjunto de treinamento e utilizar pedaços dele para treinar e outro para testar o desempenho. Isso só pode ser feito porque o dado treinado não é o mesmo em que o modelo será testado. \n"
   ]
  },
  {
   "cell_type": "markdown",
   "metadata": {},
   "source": [
    "# Implementação\n",
    "\n",
    "Dito isso, antes de começar a treinar os cinco seguintes modelos: regressão linear, random forest, decision tree, support vector machines regressor e stochastic gradient descent regressor, iremos importar as bibliotecas necessárias para implementá-los. A maioria faz parte da biblioteca de aprendizado open source scikit-learn, e as demais são bibliotecas do próprio Python para construir gráficos e trabalhar com dados - como por exemplo, DataFrames."
   ]
  },
  {
   "cell_type": "code",
   "execution_count": 28,
   "metadata": {
    "id": "478a1ff3"
   },
   "outputs": [],
   "source": [
    "%matplotlib inline\n",
    "from pprint import pprint\n",
    "\n",
    "import matplotlib.pyplot as plt\n",
    "import numpy as np\n",
    "\n",
    "from sklearn.pipeline import Pipeline\n",
    "from sklearn.preprocessing import PolynomialFeatures, StandardScaler\n",
    "from sklearn.impute import SimpleImputer\n",
    "from sklearn.model_selection import train_test_split\n",
    "from sklearn.preprocessing import OneHotEncoder\n",
    "from sklearn.compose import ColumnTransformer"
   ]
  },
  {
   "cell_type": "markdown",
   "metadata": {},
   "source": [
    "Também será necessário definir uma semente, e isso porque se tratando de um problema de Machine Learning e predições, provavelmente o programa será rodado de novo e de novo, e a cada vez que ele fosse rodar se ele não tivesse uma semente randômica fixada, ele iria gerar um conjunto de teste diferente e com o tempo o algoritmo acabaria vendo toda a base de dados. Já com a RANDOM SEED ele sempre irá gerar os mesmos índices embaralhados, o que previne esse tipo de situação descrita anteriormente."
   ]
  },
  {
   "cell_type": "code",
   "execution_count": 29,
   "metadata": {
    "id": "f0900447"
   },
   "outputs": [],
   "source": [
    "RANDOM_SEED = 42\n",
    "np.random.seed(RANDOM_SEED)"
   ]
  },
  {
   "cell_type": "markdown",
   "metadata": {},
   "source": [
    "Além disso, uma função já foi montada para imprimir os resultados em uma melhor visualização, apresentando as pontuações (*\"scores\"*), a média delas (*\"mean\"*) e os desvios padrão (*\"standard deviation\"*) desses scores."
   ]
  },
  {
   "cell_type": "code",
   "execution_count": 30,
   "metadata": {
    "id": "d7d2447f"
   },
   "outputs": [],
   "source": [
    "from sklearn.model_selection import cross_val_score\n",
    "\n",
    "\n",
    "def display_scores(scores):\n",
    "    print('Scores:', scores.round(decimals=2))\n",
    "    print('Mean:', scores.mean())\n",
    "    print('Standard deviation:', scores.std())"
   ]
  },
  {
   "cell_type": "markdown",
   "metadata": {},
   "source": [
    "Por fim, para certificar que todos os parâmetros do y de treinamento estão no formato correto, utilizamos a função \".info()\" para descrever as informações sobre a variável:"
   ]
  },
  {
   "cell_type": "code",
   "execution_count": 31,
   "metadata": {
    "colab": {
     "base_uri": "https://localhost:8080/"
    },
    "id": "e9cc3c1e",
    "outputId": "bacb87e5-8d0a-4350-8b84-e5e38523b62d",
    "scrolled": true
   },
   "outputs": [
    {
     "name": "stdout",
     "output_type": "stream",
     "text": [
      "<class 'pandas.core.frame.DataFrame'>\n",
      "RangeIndex: 3911 entries, 0 to 3910\n",
      "Data columns (total 6 columns):\n",
      " #   Column       Non-Null Count  Dtype  \n",
      "---  ------       --------------  -----  \n",
      " 0   cohesion     3911 non-null   float64\n",
      " 1   syntax       3911 non-null   float64\n",
      " 2   vocabulary   3911 non-null   float64\n",
      " 3   phraseology  3911 non-null   float64\n",
      " 4   grammar      3911 non-null   float64\n",
      " 5   conventions  3911 non-null   float64\n",
      "dtypes: float64(6)\n",
      "memory usage: 183.5 KB\n"
     ]
    }
   ],
   "source": [
    "y_train.info()"
   ]
  },
  {
   "cell_type": "markdown",
   "metadata": {
    "id": "9DEUXFIZKwuZ"
   },
   "source": [
    "Com tudo certo, podemos começar a testar o modelo. Importante salientar que estamos trabalhando com seis variáveis dependentes diferentes. Logo, para treinar e fazer a validação cruzada de cada um dos modelos, precisamos fazê-lo de maneira independente e separada para cada uma das variáveis. \n",
    "\n",
    "Vamos começar com o Random Forest.\n",
    "\n",
    "\n",
    "## Random Forest\n",
    "\n",
    "O algoritmo random forest como o próprio nome já indica, consistem em um grande múmero de árvores individuais (as árvores de decisão - que serão exploradas nos próximos modelos) e que operam como um conjunto. Assim, cada árvore individual no random forest retorna uma previsão de classe e a classe mais votada é que se torna a predição do modelo. \n",
    "\n",
    "A grande questão do algoritmo, é o que é chamado de sabedoria das multidões (ou *the wisdom of crowds* em inglês). A razão pela qual o random forest funciona tão bem é que um grande número de modelos não correlacionados operando como um grupo vai superar qualquer um dos modelos individuais . E é essa baixa correlação dos modelos que é a chave e que produzirá predições mais precisas, e isso porque as árvores protegem as outras de erros individuais (desde que elas não errem constantemente na mesma direção) - já que enquanto algumas árvores estarão erradas, muitas estarão certas, o que acabará compensando. \n",
    "\n",
    "Dito isso, vamos testá-la mas como um regressor.\n",
    "\n",
    "\n",
    "**1 a) RANDOM FOREST**\n",
    "\n",
    "Primeiro, começaremos treinando modelo com a variável dependente sendo o *grammar*:"
   ]
  },
  {
   "cell_type": "code",
   "execution_count": 33,
   "metadata": {
    "colab": {
     "base_uri": "https://localhost:8080/"
    },
    "id": "Wa2iOkXfPzYv",
    "outputId": "1b6d8802-55e1-4592-dee4-7edd72d02a74"
   },
   "outputs": [
    {
     "data": {
      "text/plain": [
       "0.882817614029822"
      ]
     },
     "execution_count": 33,
     "metadata": {},
     "output_type": "execute_result"
    }
   ],
   "source": [
    "from sklearn.ensemble import RandomForestRegressor\n",
    "from sklearn.model_selection import cross_val_score\n",
    "\n",
    "forest_clf_grammar = RandomForestRegressor(n_estimators=100, random_state=RANDOM_SEED)\n",
    "\n",
    "forest_clf_grammar.fit(X_train, y_train['grammar'])\n",
    "\n",
    "forest_clf_grammar.score(X_train, y_train['grammar'])"
   ]
  },
  {
   "cell_type": "markdown",
   "metadata": {},
   "source": [
    "Para a validação cruzada, dividiremos o conjunto de treinamento em 10 pedaços e para cada iteração o modelo treinará com os nove pedaços e testará naquele um pedaço restante."
   ]
  },
  {
   "cell_type": "code",
   "execution_count": 34,
   "metadata": {
    "id": "8ef8921c"
   },
   "outputs": [],
   "source": [
    "# O \"score\" vai ser a probabilidade de que a amostra seja da classe positiva.\n",
    "forest_scores_grammar = cross_val_score(\n",
    "    forest_clf_grammar,\n",
    "    X_train,\n",
    "    y_train['grammar'],\n",
    "    cv= 10,\n",
    "    scoring='neg_root_mean_squared_error',\n",
    "    n_jobs=-1,\n",
    ")"
   ]
  },
  {
   "cell_type": "code",
   "execution_count": 35,
   "metadata": {
    "colab": {
     "base_uri": "https://localhost:8080/"
    },
    "id": "ed70ecdd",
    "outputId": "777a1b1c-5510-4825-d59f-851771f17753"
   },
   "outputs": [
    {
     "data": {
      "text/plain": [
       "array([-0.63667163, -0.63927749, -0.64713119, -0.64211652, -0.61392099,\n",
       "       -0.64946412, -0.65975975, -0.64418236, -0.65787629, -0.63329867])"
      ]
     },
     "execution_count": 35,
     "metadata": {},
     "output_type": "execute_result"
    }
   ],
   "source": [
    "forest_scores_grammar"
   ]
  },
  {
   "cell_type": "markdown",
   "metadata": {},
   "source": [
    "Assim, como pode ser visto a seguir, a média de erro para o parâmetro é de 0,64 para mais ou para menos, com um desvio padrão relativamente baixo de aproximadamente 0,012. "
   ]
  },
  {
   "cell_type": "code",
   "execution_count": 36,
   "metadata": {
    "colab": {
     "base_uri": "https://localhost:8080/"
    },
    "id": "2d6437cf",
    "outputId": "1d96ef67-a374-4779-fdd6-e19d5e01ab87"
   },
   "outputs": [
    {
     "name": "stdout",
     "output_type": "stream",
     "text": [
      "Scores: [0.64 0.64 0.65 0.64 0.61 0.65 0.66 0.64 0.66 0.63]\n",
      "Mean: 0.6423698987849504\n",
      "Standard deviation: 0.012461394015784945\n"
     ]
    }
   ],
   "source": [
    "display_scores(-forest_scores_grammar)"
   ]
  },
  {
   "cell_type": "markdown",
   "metadata": {
    "id": "_PxC33qTK4Nz"
   },
   "source": [
    "**1 b) RANDOM FOREST**\n",
    "\n",
    "Agora faremos o treinamento para o parâmetro *cohesion* e depois repetiremos a mesma validação cruzada de 10 partições, mas agora tendo como variável dependente a coesão:"
   ]
  },
  {
   "cell_type": "code",
   "execution_count": 37,
   "metadata": {
    "id": "mioLZZOhQPav"
   },
   "outputs": [],
   "source": [
    "from sklearn.ensemble import RandomForestRegressor\n",
    "from sklearn.model_selection import cross_val_score\n",
    "\n",
    "forest_clf_cohesion = RandomForestRegressor(n_estimators=100, random_state=RANDOM_SEED)"
   ]
  },
  {
   "cell_type": "code",
   "execution_count": 38,
   "metadata": {
    "colab": {
     "base_uri": "https://localhost:8080/"
    },
    "id": "gphMtkeDKiuk",
    "outputId": "1a668fa7-ba5e-41b9-c5fe-6293a05ef40d"
   },
   "outputs": [
    {
     "data": {
      "text/html": [
       "<style>#sk-container-id-1 {color: black;background-color: white;}#sk-container-id-1 pre{padding: 0;}#sk-container-id-1 div.sk-toggleable {background-color: white;}#sk-container-id-1 label.sk-toggleable__label {cursor: pointer;display: block;width: 100%;margin-bottom: 0;padding: 0.3em;box-sizing: border-box;text-align: center;}#sk-container-id-1 label.sk-toggleable__label-arrow:before {content: \"▸\";float: left;margin-right: 0.25em;color: #696969;}#sk-container-id-1 label.sk-toggleable__label-arrow:hover:before {color: black;}#sk-container-id-1 div.sk-estimator:hover label.sk-toggleable__label-arrow:before {color: black;}#sk-container-id-1 div.sk-toggleable__content {max-height: 0;max-width: 0;overflow: hidden;text-align: left;background-color: #f0f8ff;}#sk-container-id-1 div.sk-toggleable__content pre {margin: 0.2em;color: black;border-radius: 0.25em;background-color: #f0f8ff;}#sk-container-id-1 input.sk-toggleable__control:checked~div.sk-toggleable__content {max-height: 200px;max-width: 100%;overflow: auto;}#sk-container-id-1 input.sk-toggleable__control:checked~label.sk-toggleable__label-arrow:before {content: \"▾\";}#sk-container-id-1 div.sk-estimator input.sk-toggleable__control:checked~label.sk-toggleable__label {background-color: #d4ebff;}#sk-container-id-1 div.sk-label input.sk-toggleable__control:checked~label.sk-toggleable__label {background-color: #d4ebff;}#sk-container-id-1 input.sk-hidden--visually {border: 0;clip: rect(1px 1px 1px 1px);clip: rect(1px, 1px, 1px, 1px);height: 1px;margin: -1px;overflow: hidden;padding: 0;position: absolute;width: 1px;}#sk-container-id-1 div.sk-estimator {font-family: monospace;background-color: #f0f8ff;border: 1px dotted black;border-radius: 0.25em;box-sizing: border-box;margin-bottom: 0.5em;}#sk-container-id-1 div.sk-estimator:hover {background-color: #d4ebff;}#sk-container-id-1 div.sk-parallel-item::after {content: \"\";width: 100%;border-bottom: 1px solid gray;flex-grow: 1;}#sk-container-id-1 div.sk-label:hover label.sk-toggleable__label {background-color: #d4ebff;}#sk-container-id-1 div.sk-serial::before {content: \"\";position: absolute;border-left: 1px solid gray;box-sizing: border-box;top: 0;bottom: 0;left: 50%;z-index: 0;}#sk-container-id-1 div.sk-serial {display: flex;flex-direction: column;align-items: center;background-color: white;padding-right: 0.2em;padding-left: 0.2em;position: relative;}#sk-container-id-1 div.sk-item {position: relative;z-index: 1;}#sk-container-id-1 div.sk-parallel {display: flex;align-items: stretch;justify-content: center;background-color: white;position: relative;}#sk-container-id-1 div.sk-item::before, #sk-container-id-1 div.sk-parallel-item::before {content: \"\";position: absolute;border-left: 1px solid gray;box-sizing: border-box;top: 0;bottom: 0;left: 50%;z-index: -1;}#sk-container-id-1 div.sk-parallel-item {display: flex;flex-direction: column;z-index: 1;position: relative;background-color: white;}#sk-container-id-1 div.sk-parallel-item:first-child::after {align-self: flex-end;width: 50%;}#sk-container-id-1 div.sk-parallel-item:last-child::after {align-self: flex-start;width: 50%;}#sk-container-id-1 div.sk-parallel-item:only-child::after {width: 0;}#sk-container-id-1 div.sk-dashed-wrapped {border: 1px dashed gray;margin: 0 0.4em 0.5em 0.4em;box-sizing: border-box;padding-bottom: 0.4em;background-color: white;}#sk-container-id-1 div.sk-label label {font-family: monospace;font-weight: bold;display: inline-block;line-height: 1.2em;}#sk-container-id-1 div.sk-label-container {text-align: center;}#sk-container-id-1 div.sk-container {/* jupyter's `normalize.less` sets `[hidden] { display: none; }` but bootstrap.min.css set `[hidden] { display: none !important; }` so we also need the `!important` here to be able to override the default hidden behavior on the sphinx rendered scikit-learn.org. See: https://github.com/scikit-learn/scikit-learn/issues/21755 */display: inline-block !important;position: relative;}#sk-container-id-1 div.sk-text-repr-fallback {display: none;}</style><div id=\"sk-container-id-1\" class=\"sk-top-container\"><div class=\"sk-text-repr-fallback\"><pre>RandomForestRegressor(random_state=42)</pre><b>In a Jupyter environment, please rerun this cell to show the HTML representation or trust the notebook. <br />On GitHub, the HTML representation is unable to render, please try loading this page with nbviewer.org.</b></div><div class=\"sk-container\" hidden><div class=\"sk-item\"><div class=\"sk-estimator sk-toggleable\"><input class=\"sk-toggleable__control sk-hidden--visually\" id=\"sk-estimator-id-1\" type=\"checkbox\" checked><label for=\"sk-estimator-id-1\" class=\"sk-toggleable__label sk-toggleable__label-arrow\">RandomForestRegressor</label><div class=\"sk-toggleable__content\"><pre>RandomForestRegressor(random_state=42)</pre></div></div></div></div></div>"
      ],
      "text/plain": [
       "RandomForestRegressor(random_state=42)"
      ]
     },
     "execution_count": 38,
     "metadata": {},
     "output_type": "execute_result"
    }
   ],
   "source": [
    "forest_clf_cohesion.fit(X_train, y_train['cohesion'])"
   ]
  },
  {
   "cell_type": "code",
   "execution_count": 39,
   "metadata": {
    "colab": {
     "base_uri": "https://localhost:8080/"
    },
    "id": "DeN-p3O3Ki9J",
    "outputId": "94132279-16cd-4b2b-81e0-65e8db9e4773"
   },
   "outputs": [
    {
     "data": {
      "text/plain": [
       "0.8826248837133603"
      ]
     },
     "execution_count": 39,
     "metadata": {},
     "output_type": "execute_result"
    }
   ],
   "source": [
    "forest_clf_cohesion.score(X_train, y_train['cohesion'])"
   ]
  },
  {
   "cell_type": "code",
   "execution_count": 40,
   "metadata": {
    "id": "MKXqRvrgKjEC"
   },
   "outputs": [],
   "source": [
    "# O \"score\" vai ser a probabilidade de que a amostra seja da classe positiva.\n",
    "forest_scores_cohesion = cross_val_score(\n",
    "    forest_clf_cohesion,\n",
    "    X_train,\n",
    "    y_train['cohesion'],\n",
    "    cv= 10,\n",
    "    scoring='neg_root_mean_squared_error',\n",
    "    n_jobs=-1,\n",
    ")"
   ]
  },
  {
   "cell_type": "code",
   "execution_count": 41,
   "metadata": {
    "colab": {
     "base_uri": "https://localhost:8080/"
    },
    "id": "Y3MgMIECKjIj",
    "outputId": "acd048df-f302-4f44-8245-c0f5bd45bbe5"
   },
   "outputs": [
    {
     "data": {
      "text/plain": [
       "array([-0.61200026, -0.56212137, -0.63248819, -0.59158588, -0.60085872,\n",
       "       -0.61565427, -0.60422511, -0.59632753, -0.62487001, -0.59848509])"
      ]
     },
     "execution_count": 41,
     "metadata": {},
     "output_type": "execute_result"
    }
   ],
   "source": [
    "forest_scores_cohesion"
   ]
  },
  {
   "cell_type": "markdown",
   "metadata": {},
   "source": [
    "Logo, como pode ser visto a seguir, a média de erro para o parâmetro é de 0,60 para mais ou para menos, com um desvio padrão relativamente baixo de aproximadamente 0,018. "
   ]
  },
  {
   "cell_type": "code",
   "execution_count": 42,
   "metadata": {
    "colab": {
     "base_uri": "https://localhost:8080/"
    },
    "id": "jXtjNBqMKjPt",
    "outputId": "2dee9d0a-69db-43d0-84c2-617c9a0a6618"
   },
   "outputs": [
    {
     "name": "stdout",
     "output_type": "stream",
     "text": [
      "Scores: [0.61 0.56 0.63 0.59 0.6  0.62 0.6  0.6  0.62 0.6 ]\n",
      "Mean: 0.6038616420281742\n",
      "Standard deviation: 0.018584666756469286\n"
     ]
    }
   ],
   "source": [
    "display_scores(-forest_scores_cohesion)"
   ]
  },
  {
   "cell_type": "markdown",
   "metadata": {
    "id": "KYRSa6z7LsXz"
   },
   "source": [
    "**1 c) RANDOM FOREST**\n",
    "\n",
    "\n",
    "Mais uma vez repetiremos o treinamento, mas agora para o parâmetro *phraseology* e depois faremos a mesma validação cruzada de 10 partições, mas agora tendo como variável dependente a fraseologia:"
   ]
  },
  {
   "cell_type": "code",
   "execution_count": 43,
   "metadata": {
    "id": "SxxCEE_EQpUd"
   },
   "outputs": [],
   "source": [
    "from sklearn.ensemble import RandomForestRegressor\n",
    "from sklearn.model_selection import cross_val_score\n",
    "\n",
    "forest_clf_phraseology = RandomForestRegressor(n_estimators=100, random_state=RANDOM_SEED)\n"
   ]
  },
  {
   "cell_type": "code",
   "execution_count": 44,
   "metadata": {
    "colab": {
     "base_uri": "https://localhost:8080/"
    },
    "id": "k5IeXQHTL5Yz",
    "outputId": "0fbc2607-ca8b-495f-ff88-28056f20c0e7"
   },
   "outputs": [
    {
     "data": {
      "text/html": [
       "<style>#sk-container-id-2 {color: black;background-color: white;}#sk-container-id-2 pre{padding: 0;}#sk-container-id-2 div.sk-toggleable {background-color: white;}#sk-container-id-2 label.sk-toggleable__label {cursor: pointer;display: block;width: 100%;margin-bottom: 0;padding: 0.3em;box-sizing: border-box;text-align: center;}#sk-container-id-2 label.sk-toggleable__label-arrow:before {content: \"▸\";float: left;margin-right: 0.25em;color: #696969;}#sk-container-id-2 label.sk-toggleable__label-arrow:hover:before {color: black;}#sk-container-id-2 div.sk-estimator:hover label.sk-toggleable__label-arrow:before {color: black;}#sk-container-id-2 div.sk-toggleable__content {max-height: 0;max-width: 0;overflow: hidden;text-align: left;background-color: #f0f8ff;}#sk-container-id-2 div.sk-toggleable__content pre {margin: 0.2em;color: black;border-radius: 0.25em;background-color: #f0f8ff;}#sk-container-id-2 input.sk-toggleable__control:checked~div.sk-toggleable__content {max-height: 200px;max-width: 100%;overflow: auto;}#sk-container-id-2 input.sk-toggleable__control:checked~label.sk-toggleable__label-arrow:before {content: \"▾\";}#sk-container-id-2 div.sk-estimator input.sk-toggleable__control:checked~label.sk-toggleable__label {background-color: #d4ebff;}#sk-container-id-2 div.sk-label input.sk-toggleable__control:checked~label.sk-toggleable__label {background-color: #d4ebff;}#sk-container-id-2 input.sk-hidden--visually {border: 0;clip: rect(1px 1px 1px 1px);clip: rect(1px, 1px, 1px, 1px);height: 1px;margin: -1px;overflow: hidden;padding: 0;position: absolute;width: 1px;}#sk-container-id-2 div.sk-estimator {font-family: monospace;background-color: #f0f8ff;border: 1px dotted black;border-radius: 0.25em;box-sizing: border-box;margin-bottom: 0.5em;}#sk-container-id-2 div.sk-estimator:hover {background-color: #d4ebff;}#sk-container-id-2 div.sk-parallel-item::after {content: \"\";width: 100%;border-bottom: 1px solid gray;flex-grow: 1;}#sk-container-id-2 div.sk-label:hover label.sk-toggleable__label {background-color: #d4ebff;}#sk-container-id-2 div.sk-serial::before {content: \"\";position: absolute;border-left: 1px solid gray;box-sizing: border-box;top: 0;bottom: 0;left: 50%;z-index: 0;}#sk-container-id-2 div.sk-serial {display: flex;flex-direction: column;align-items: center;background-color: white;padding-right: 0.2em;padding-left: 0.2em;position: relative;}#sk-container-id-2 div.sk-item {position: relative;z-index: 1;}#sk-container-id-2 div.sk-parallel {display: flex;align-items: stretch;justify-content: center;background-color: white;position: relative;}#sk-container-id-2 div.sk-item::before, #sk-container-id-2 div.sk-parallel-item::before {content: \"\";position: absolute;border-left: 1px solid gray;box-sizing: border-box;top: 0;bottom: 0;left: 50%;z-index: -1;}#sk-container-id-2 div.sk-parallel-item {display: flex;flex-direction: column;z-index: 1;position: relative;background-color: white;}#sk-container-id-2 div.sk-parallel-item:first-child::after {align-self: flex-end;width: 50%;}#sk-container-id-2 div.sk-parallel-item:last-child::after {align-self: flex-start;width: 50%;}#sk-container-id-2 div.sk-parallel-item:only-child::after {width: 0;}#sk-container-id-2 div.sk-dashed-wrapped {border: 1px dashed gray;margin: 0 0.4em 0.5em 0.4em;box-sizing: border-box;padding-bottom: 0.4em;background-color: white;}#sk-container-id-2 div.sk-label label {font-family: monospace;font-weight: bold;display: inline-block;line-height: 1.2em;}#sk-container-id-2 div.sk-label-container {text-align: center;}#sk-container-id-2 div.sk-container {/* jupyter's `normalize.less` sets `[hidden] { display: none; }` but bootstrap.min.css set `[hidden] { display: none !important; }` so we also need the `!important` here to be able to override the default hidden behavior on the sphinx rendered scikit-learn.org. See: https://github.com/scikit-learn/scikit-learn/issues/21755 */display: inline-block !important;position: relative;}#sk-container-id-2 div.sk-text-repr-fallback {display: none;}</style><div id=\"sk-container-id-2\" class=\"sk-top-container\"><div class=\"sk-text-repr-fallback\"><pre>RandomForestRegressor(random_state=42)</pre><b>In a Jupyter environment, please rerun this cell to show the HTML representation or trust the notebook. <br />On GitHub, the HTML representation is unable to render, please try loading this page with nbviewer.org.</b></div><div class=\"sk-container\" hidden><div class=\"sk-item\"><div class=\"sk-estimator sk-toggleable\"><input class=\"sk-toggleable__control sk-hidden--visually\" id=\"sk-estimator-id-2\" type=\"checkbox\" checked><label for=\"sk-estimator-id-2\" class=\"sk-toggleable__label sk-toggleable__label-arrow\">RandomForestRegressor</label><div class=\"sk-toggleable__content\"><pre>RandomForestRegressor(random_state=42)</pre></div></div></div></div></div>"
      ],
      "text/plain": [
       "RandomForestRegressor(random_state=42)"
      ]
     },
     "execution_count": 44,
     "metadata": {},
     "output_type": "execute_result"
    }
   ],
   "source": [
    "forest_clf_phraseology.fit(X_train, y_train['phraseology'])"
   ]
  },
  {
   "cell_type": "markdown",
   "metadata": {
    "id": "QI5lwC74TfHB"
   },
   "source": []
  },
  {
   "cell_type": "code",
   "execution_count": 45,
   "metadata": {
    "colab": {
     "base_uri": "https://localhost:8080/"
    },
    "id": "vamS9njwL5h4",
    "outputId": "b08067e4-dd6a-41f5-9a9f-82a58b072f0f"
   },
   "outputs": [
    {
     "data": {
      "text/plain": [
       "0.8827443700406662"
      ]
     },
     "execution_count": 45,
     "metadata": {},
     "output_type": "execute_result"
    }
   ],
   "source": [
    "forest_clf_phraseology.score(X_train, y_train['phraseology'])"
   ]
  },
  {
   "cell_type": "code",
   "execution_count": 46,
   "metadata": {
    "id": "zoxv5JDyL5pY"
   },
   "outputs": [],
   "source": [
    "# O \"score\" vai ser a probabilidade de que a amostra seja da classe positiva.\n",
    "forest_scores_phraseology = cross_val_score(\n",
    "    forest_clf_phraseology,\n",
    "    X_train,\n",
    "    y_train['phraseology'],\n",
    "    cv= 10,\n",
    "    scoring='neg_root_mean_squared_error',\n",
    "    n_jobs=-1,\n",
    ")"
   ]
  },
  {
   "cell_type": "code",
   "execution_count": 47,
   "metadata": {
    "colab": {
     "base_uri": "https://localhost:8080/"
    },
    "id": "82eBi5MdL5uv",
    "outputId": "809392ee-f038-45ea-add0-93b90bf16533"
   },
   "outputs": [
    {
     "data": {
      "text/plain": [
       "array([-0.62771807, -0.5842434 , -0.61178646, -0.6088184 , -0.59799056,\n",
       "       -0.62168116, -0.6007813 , -0.56899112, -0.59616062, -0.59262593])"
      ]
     },
     "execution_count": 47,
     "metadata": {},
     "output_type": "execute_result"
    }
   ],
   "source": [
    "forest_scores_phraseology"
   ]
  },
  {
   "cell_type": "markdown",
   "metadata": {},
   "source": [
    "Assim, como pode ser observado a seguir, a média de erro para o parâmetro é de 0,60 para mais ou para menos, com um desvio padrão relativamente baixo de aproximadamente 0,016. "
   ]
  },
  {
   "cell_type": "code",
   "execution_count": 48,
   "metadata": {
    "colab": {
     "base_uri": "https://localhost:8080/"
    },
    "id": "2OnZyM8_MJOr",
    "outputId": "fd001cd9-1b90-44d4-efc7-880d663781e7"
   },
   "outputs": [
    {
     "name": "stdout",
     "output_type": "stream",
     "text": [
      "Scores: [0.63 0.58 0.61 0.61 0.6  0.62 0.6  0.57 0.6  0.59]\n",
      "Mean: 0.6010797023167493\n",
      "Standard deviation: 0.01651356603506156\n"
     ]
    }
   ],
   "source": [
    "display_scores(-forest_scores_phraseology)"
   ]
  },
  {
   "cell_type": "markdown",
   "metadata": {
    "id": "MEJlQrZFMO1r"
   },
   "source": [
    "**1 d) RANDOM FOREST**\n",
    "\n",
    "Agora faremos o treinamento para o parâmetro *syntax* e depois repetiremos a mesma validação cruzada de 10 partições, mas agora tendo como variável dependente a sintaxe:"
   ]
  },
  {
   "cell_type": "code",
   "execution_count": 49,
   "metadata": {
    "id": "FRg0jR8nRrX9"
   },
   "outputs": [],
   "source": [
    "from sklearn.ensemble import RandomForestRegressor\n",
    "from sklearn.model_selection import cross_val_score\n",
    "\n",
    "forest_clf_syntax = RandomForestRegressor(n_estimators=100, random_state=RANDOM_SEED)"
   ]
  },
  {
   "cell_type": "code",
   "execution_count": 50,
   "metadata": {
    "colab": {
     "base_uri": "https://localhost:8080/"
    },
    "id": "CkGLU_gZMNRu",
    "outputId": "7661a116-e80e-47ad-97cc-ffa05e50f96f"
   },
   "outputs": [
    {
     "data": {
      "text/html": [
       "<style>#sk-container-id-3 {color: black;background-color: white;}#sk-container-id-3 pre{padding: 0;}#sk-container-id-3 div.sk-toggleable {background-color: white;}#sk-container-id-3 label.sk-toggleable__label {cursor: pointer;display: block;width: 100%;margin-bottom: 0;padding: 0.3em;box-sizing: border-box;text-align: center;}#sk-container-id-3 label.sk-toggleable__label-arrow:before {content: \"▸\";float: left;margin-right: 0.25em;color: #696969;}#sk-container-id-3 label.sk-toggleable__label-arrow:hover:before {color: black;}#sk-container-id-3 div.sk-estimator:hover label.sk-toggleable__label-arrow:before {color: black;}#sk-container-id-3 div.sk-toggleable__content {max-height: 0;max-width: 0;overflow: hidden;text-align: left;background-color: #f0f8ff;}#sk-container-id-3 div.sk-toggleable__content pre {margin: 0.2em;color: black;border-radius: 0.25em;background-color: #f0f8ff;}#sk-container-id-3 input.sk-toggleable__control:checked~div.sk-toggleable__content {max-height: 200px;max-width: 100%;overflow: auto;}#sk-container-id-3 input.sk-toggleable__control:checked~label.sk-toggleable__label-arrow:before {content: \"▾\";}#sk-container-id-3 div.sk-estimator input.sk-toggleable__control:checked~label.sk-toggleable__label {background-color: #d4ebff;}#sk-container-id-3 div.sk-label input.sk-toggleable__control:checked~label.sk-toggleable__label {background-color: #d4ebff;}#sk-container-id-3 input.sk-hidden--visually {border: 0;clip: rect(1px 1px 1px 1px);clip: rect(1px, 1px, 1px, 1px);height: 1px;margin: -1px;overflow: hidden;padding: 0;position: absolute;width: 1px;}#sk-container-id-3 div.sk-estimator {font-family: monospace;background-color: #f0f8ff;border: 1px dotted black;border-radius: 0.25em;box-sizing: border-box;margin-bottom: 0.5em;}#sk-container-id-3 div.sk-estimator:hover {background-color: #d4ebff;}#sk-container-id-3 div.sk-parallel-item::after {content: \"\";width: 100%;border-bottom: 1px solid gray;flex-grow: 1;}#sk-container-id-3 div.sk-label:hover label.sk-toggleable__label {background-color: #d4ebff;}#sk-container-id-3 div.sk-serial::before {content: \"\";position: absolute;border-left: 1px solid gray;box-sizing: border-box;top: 0;bottom: 0;left: 50%;z-index: 0;}#sk-container-id-3 div.sk-serial {display: flex;flex-direction: column;align-items: center;background-color: white;padding-right: 0.2em;padding-left: 0.2em;position: relative;}#sk-container-id-3 div.sk-item {position: relative;z-index: 1;}#sk-container-id-3 div.sk-parallel {display: flex;align-items: stretch;justify-content: center;background-color: white;position: relative;}#sk-container-id-3 div.sk-item::before, #sk-container-id-3 div.sk-parallel-item::before {content: \"\";position: absolute;border-left: 1px solid gray;box-sizing: border-box;top: 0;bottom: 0;left: 50%;z-index: -1;}#sk-container-id-3 div.sk-parallel-item {display: flex;flex-direction: column;z-index: 1;position: relative;background-color: white;}#sk-container-id-3 div.sk-parallel-item:first-child::after {align-self: flex-end;width: 50%;}#sk-container-id-3 div.sk-parallel-item:last-child::after {align-self: flex-start;width: 50%;}#sk-container-id-3 div.sk-parallel-item:only-child::after {width: 0;}#sk-container-id-3 div.sk-dashed-wrapped {border: 1px dashed gray;margin: 0 0.4em 0.5em 0.4em;box-sizing: border-box;padding-bottom: 0.4em;background-color: white;}#sk-container-id-3 div.sk-label label {font-family: monospace;font-weight: bold;display: inline-block;line-height: 1.2em;}#sk-container-id-3 div.sk-label-container {text-align: center;}#sk-container-id-3 div.sk-container {/* jupyter's `normalize.less` sets `[hidden] { display: none; }` but bootstrap.min.css set `[hidden] { display: none !important; }` so we also need the `!important` here to be able to override the default hidden behavior on the sphinx rendered scikit-learn.org. See: https://github.com/scikit-learn/scikit-learn/issues/21755 */display: inline-block !important;position: relative;}#sk-container-id-3 div.sk-text-repr-fallback {display: none;}</style><div id=\"sk-container-id-3\" class=\"sk-top-container\"><div class=\"sk-text-repr-fallback\"><pre>RandomForestRegressor(random_state=42)</pre><b>In a Jupyter environment, please rerun this cell to show the HTML representation or trust the notebook. <br />On GitHub, the HTML representation is unable to render, please try loading this page with nbviewer.org.</b></div><div class=\"sk-container\" hidden><div class=\"sk-item\"><div class=\"sk-estimator sk-toggleable\"><input class=\"sk-toggleable__control sk-hidden--visually\" id=\"sk-estimator-id-3\" type=\"checkbox\" checked><label for=\"sk-estimator-id-3\" class=\"sk-toggleable__label sk-toggleable__label-arrow\">RandomForestRegressor</label><div class=\"sk-toggleable__content\"><pre>RandomForestRegressor(random_state=42)</pre></div></div></div></div></div>"
      ],
      "text/plain": [
       "RandomForestRegressor(random_state=42)"
      ]
     },
     "execution_count": 50,
     "metadata": {},
     "output_type": "execute_result"
    }
   ],
   "source": [
    "forest_clf_syntax.fit(X_train, y_train['syntax'])"
   ]
  },
  {
   "cell_type": "code",
   "execution_count": 51,
   "metadata": {
    "colab": {
     "base_uri": "https://localhost:8080/"
    },
    "id": "0Py7Sy7kMNRu",
    "outputId": "2e33c638-a6da-4652-acaa-71c6446cd3a3"
   },
   "outputs": [
    {
     "data": {
      "text/plain": [
       "0.8825282618654556"
      ]
     },
     "execution_count": 51,
     "metadata": {},
     "output_type": "execute_result"
    }
   ],
   "source": [
    "forest_clf_syntax.score(X_train, y_train['syntax'])"
   ]
  },
  {
   "cell_type": "code",
   "execution_count": 52,
   "metadata": {
    "id": "1xuX5S8zMNRu"
   },
   "outputs": [],
   "source": [
    "# O \"score\" vai ser a probabilidade de que a amostra seja da classe positiva.\n",
    "forest_scores_syntax = cross_val_score(\n",
    "    forest_clf_syntax,\n",
    "    X_train,\n",
    "    y_train['syntax'],\n",
    "    cv= 10,\n",
    "    scoring='neg_root_mean_squared_error',\n",
    "    n_jobs=-1,\n",
    ")"
   ]
  },
  {
   "cell_type": "code",
   "execution_count": 53,
   "metadata": {
    "colab": {
     "base_uri": "https://localhost:8080/"
    },
    "id": "6Tq-OdesMNRu",
    "outputId": "f6d4b08e-f831-4568-fc10-d5e1526897f4"
   },
   "outputs": [
    {
     "data": {
      "text/plain": [
       "array([-0.58647903, -0.54979332, -0.61512542, -0.61524146, -0.57952826,\n",
       "       -0.59703792, -0.59024969, -0.57357502, -0.60310704, -0.57392655])"
      ]
     },
     "execution_count": 53,
     "metadata": {},
     "output_type": "execute_result"
    }
   ],
   "source": [
    "forest_scores_syntax"
   ]
  },
  {
   "cell_type": "markdown",
   "metadata": {},
   "source": [
    "Dessa forma, como pode ser visto, a média de erro para o parâmetro é de 0,58 para mais ou para menos, com um desvio padrão um pouco mais alto que os demais de aproximadamente 0,019. "
   ]
  },
  {
   "cell_type": "code",
   "execution_count": 54,
   "metadata": {
    "colab": {
     "base_uri": "https://localhost:8080/"
    },
    "id": "EyUPaafFMNRv",
    "outputId": "0675959d-25d4-425b-a040-3a8ec68a1026"
   },
   "outputs": [
    {
     "name": "stdout",
     "output_type": "stream",
     "text": [
      "Scores: [0.59 0.55 0.62 0.62 0.58 0.6  0.59 0.57 0.6  0.57]\n",
      "Mean: 0.5884063725302493\n",
      "Standard deviation: 0.01931625834942585\n"
     ]
    }
   ],
   "source": [
    "display_scores(-forest_scores_syntax)"
   ]
  },
  {
   "cell_type": "markdown",
   "metadata": {
    "id": "ZRMXRwI9MXsm"
   },
   "source": [
    "**1 e) RANDOM FOREST**\n",
    "\n",
    "Mais uma vez faremos o treinamento, porém agora com o parâmetro *vocabulary* e depois repetiremos a mesma validação cruzada de 10 partições tendo como variável dependente o vocabulário:"
   ]
  },
  {
   "cell_type": "code",
   "execution_count": 55,
   "metadata": {
    "id": "XEj8o5hvR4bo"
   },
   "outputs": [],
   "source": [
    "from sklearn.ensemble import RandomForestRegressor\n",
    "from sklearn.model_selection import cross_val_score\n",
    "\n",
    "forest_clf_vocabulary = RandomForestRegressor(n_estimators=100, random_state=RANDOM_SEED)"
   ]
  },
  {
   "cell_type": "code",
   "execution_count": 56,
   "metadata": {
    "id": "Y4m8xL5tMfWm"
   },
   "outputs": [
    {
     "data": {
      "text/html": [
       "<style>#sk-container-id-4 {color: black;background-color: white;}#sk-container-id-4 pre{padding: 0;}#sk-container-id-4 div.sk-toggleable {background-color: white;}#sk-container-id-4 label.sk-toggleable__label {cursor: pointer;display: block;width: 100%;margin-bottom: 0;padding: 0.3em;box-sizing: border-box;text-align: center;}#sk-container-id-4 label.sk-toggleable__label-arrow:before {content: \"▸\";float: left;margin-right: 0.25em;color: #696969;}#sk-container-id-4 label.sk-toggleable__label-arrow:hover:before {color: black;}#sk-container-id-4 div.sk-estimator:hover label.sk-toggleable__label-arrow:before {color: black;}#sk-container-id-4 div.sk-toggleable__content {max-height: 0;max-width: 0;overflow: hidden;text-align: left;background-color: #f0f8ff;}#sk-container-id-4 div.sk-toggleable__content pre {margin: 0.2em;color: black;border-radius: 0.25em;background-color: #f0f8ff;}#sk-container-id-4 input.sk-toggleable__control:checked~div.sk-toggleable__content {max-height: 200px;max-width: 100%;overflow: auto;}#sk-container-id-4 input.sk-toggleable__control:checked~label.sk-toggleable__label-arrow:before {content: \"▾\";}#sk-container-id-4 div.sk-estimator input.sk-toggleable__control:checked~label.sk-toggleable__label {background-color: #d4ebff;}#sk-container-id-4 div.sk-label input.sk-toggleable__control:checked~label.sk-toggleable__label {background-color: #d4ebff;}#sk-container-id-4 input.sk-hidden--visually {border: 0;clip: rect(1px 1px 1px 1px);clip: rect(1px, 1px, 1px, 1px);height: 1px;margin: -1px;overflow: hidden;padding: 0;position: absolute;width: 1px;}#sk-container-id-4 div.sk-estimator {font-family: monospace;background-color: #f0f8ff;border: 1px dotted black;border-radius: 0.25em;box-sizing: border-box;margin-bottom: 0.5em;}#sk-container-id-4 div.sk-estimator:hover {background-color: #d4ebff;}#sk-container-id-4 div.sk-parallel-item::after {content: \"\";width: 100%;border-bottom: 1px solid gray;flex-grow: 1;}#sk-container-id-4 div.sk-label:hover label.sk-toggleable__label {background-color: #d4ebff;}#sk-container-id-4 div.sk-serial::before {content: \"\";position: absolute;border-left: 1px solid gray;box-sizing: border-box;top: 0;bottom: 0;left: 50%;z-index: 0;}#sk-container-id-4 div.sk-serial {display: flex;flex-direction: column;align-items: center;background-color: white;padding-right: 0.2em;padding-left: 0.2em;position: relative;}#sk-container-id-4 div.sk-item {position: relative;z-index: 1;}#sk-container-id-4 div.sk-parallel {display: flex;align-items: stretch;justify-content: center;background-color: white;position: relative;}#sk-container-id-4 div.sk-item::before, #sk-container-id-4 div.sk-parallel-item::before {content: \"\";position: absolute;border-left: 1px solid gray;box-sizing: border-box;top: 0;bottom: 0;left: 50%;z-index: -1;}#sk-container-id-4 div.sk-parallel-item {display: flex;flex-direction: column;z-index: 1;position: relative;background-color: white;}#sk-container-id-4 div.sk-parallel-item:first-child::after {align-self: flex-end;width: 50%;}#sk-container-id-4 div.sk-parallel-item:last-child::after {align-self: flex-start;width: 50%;}#sk-container-id-4 div.sk-parallel-item:only-child::after {width: 0;}#sk-container-id-4 div.sk-dashed-wrapped {border: 1px dashed gray;margin: 0 0.4em 0.5em 0.4em;box-sizing: border-box;padding-bottom: 0.4em;background-color: white;}#sk-container-id-4 div.sk-label label {font-family: monospace;font-weight: bold;display: inline-block;line-height: 1.2em;}#sk-container-id-4 div.sk-label-container {text-align: center;}#sk-container-id-4 div.sk-container {/* jupyter's `normalize.less` sets `[hidden] { display: none; }` but bootstrap.min.css set `[hidden] { display: none !important; }` so we also need the `!important` here to be able to override the default hidden behavior on the sphinx rendered scikit-learn.org. See: https://github.com/scikit-learn/scikit-learn/issues/21755 */display: inline-block !important;position: relative;}#sk-container-id-4 div.sk-text-repr-fallback {display: none;}</style><div id=\"sk-container-id-4\" class=\"sk-top-container\"><div class=\"sk-text-repr-fallback\"><pre>RandomForestRegressor(random_state=42)</pre><b>In a Jupyter environment, please rerun this cell to show the HTML representation or trust the notebook. <br />On GitHub, the HTML representation is unable to render, please try loading this page with nbviewer.org.</b></div><div class=\"sk-container\" hidden><div class=\"sk-item\"><div class=\"sk-estimator sk-toggleable\"><input class=\"sk-toggleable__control sk-hidden--visually\" id=\"sk-estimator-id-4\" type=\"checkbox\" checked><label for=\"sk-estimator-id-4\" class=\"sk-toggleable__label sk-toggleable__label-arrow\">RandomForestRegressor</label><div class=\"sk-toggleable__content\"><pre>RandomForestRegressor(random_state=42)</pre></div></div></div></div></div>"
      ],
      "text/plain": [
       "RandomForestRegressor(random_state=42)"
      ]
     },
     "execution_count": 56,
     "metadata": {},
     "output_type": "execute_result"
    }
   ],
   "source": [
    "forest_clf_vocabulary.fit(X_train, y_train['vocabulary'])"
   ]
  },
  {
   "cell_type": "code",
   "execution_count": 57,
   "metadata": {
    "id": "ZGftQ035MfWn"
   },
   "outputs": [
    {
     "data": {
      "text/plain": [
       "0.8804469706309314"
      ]
     },
     "execution_count": 57,
     "metadata": {},
     "output_type": "execute_result"
    }
   ],
   "source": [
    "forest_clf_vocabulary.score(X_train, y_train['vocabulary'])"
   ]
  },
  {
   "cell_type": "code",
   "execution_count": 58,
   "metadata": {
    "id": "64w3oLC9MfWn"
   },
   "outputs": [],
   "source": [
    "# O \"score\" vai ser a probabilidade de que a amostra seja da classe positiva.\n",
    "forest_scores_vocabulary = cross_val_score(\n",
    "    forest_clf_vocabulary,\n",
    "    X_train,\n",
    "    y_train['vocabulary'],\n",
    "    cv= 10,\n",
    "    scoring='neg_root_mean_squared_error',\n",
    "    n_jobs=-1,\n",
    ")"
   ]
  },
  {
   "cell_type": "code",
   "execution_count": 59,
   "metadata": {
    "id": "HE7P1ggCMfWo"
   },
   "outputs": [
    {
     "data": {
      "text/plain": [
       "array([-0.58565015, -0.52046912, -0.56192439, -0.54580814, -0.50558694,\n",
       "       -0.5359652 , -0.53134595, -0.51763813, -0.53628792, -0.51427021])"
      ]
     },
     "execution_count": 59,
     "metadata": {},
     "output_type": "execute_result"
    }
   ],
   "source": [
    "forest_scores_vocabulary"
   ]
  },
  {
   "cell_type": "markdown",
   "metadata": {},
   "source": [
    "Assim, como observado, a média de erro para o parâmetro é de 0,53 para mais ou para menos - o menor até agora - , com um desvio padrão mais alto que os demais de aproximadamente 0,022. "
   ]
  },
  {
   "cell_type": "code",
   "execution_count": 60,
   "metadata": {
    "id": "OBSFpn-3MfWp"
   },
   "outputs": [
    {
     "name": "stdout",
     "output_type": "stream",
     "text": [
      "Scores: [0.59 0.52 0.56 0.55 0.51 0.54 0.53 0.52 0.54 0.51]\n",
      "Mean: 0.5354946144131381\n",
      "Standard deviation: 0.022865049592167782\n"
     ]
    }
   ],
   "source": [
    "display_scores(-forest_scores_vocabulary)"
   ]
  },
  {
   "cell_type": "markdown",
   "metadata": {
    "id": "i98E6vcjD0He"
   },
   "source": [
    "**1 f) RANDOM FOREST**\n",
    "\n",
    "Por fim, faremos o último treinamento para o modelo do Random Forest, testando agora a validação cruzada para o parâmetro *conventions*: "
   ]
  },
  {
   "cell_type": "code",
   "execution_count": 61,
   "metadata": {
    "id": "lE5pSNxFEiMb"
   },
   "outputs": [],
   "source": [
    "from sklearn.ensemble import RandomForestRegressor\n",
    "from sklearn.model_selection import cross_val_score\n",
    "\n",
    "forest_clf_conventions = RandomForestRegressor(n_estimators=100, random_state=RANDOM_SEED)"
   ]
  },
  {
   "cell_type": "code",
   "execution_count": 62,
   "metadata": {
    "id": "nh1nnUuaEiMc"
   },
   "outputs": [
    {
     "data": {
      "text/html": [
       "<style>#sk-container-id-5 {color: black;background-color: white;}#sk-container-id-5 pre{padding: 0;}#sk-container-id-5 div.sk-toggleable {background-color: white;}#sk-container-id-5 label.sk-toggleable__label {cursor: pointer;display: block;width: 100%;margin-bottom: 0;padding: 0.3em;box-sizing: border-box;text-align: center;}#sk-container-id-5 label.sk-toggleable__label-arrow:before {content: \"▸\";float: left;margin-right: 0.25em;color: #696969;}#sk-container-id-5 label.sk-toggleable__label-arrow:hover:before {color: black;}#sk-container-id-5 div.sk-estimator:hover label.sk-toggleable__label-arrow:before {color: black;}#sk-container-id-5 div.sk-toggleable__content {max-height: 0;max-width: 0;overflow: hidden;text-align: left;background-color: #f0f8ff;}#sk-container-id-5 div.sk-toggleable__content pre {margin: 0.2em;color: black;border-radius: 0.25em;background-color: #f0f8ff;}#sk-container-id-5 input.sk-toggleable__control:checked~div.sk-toggleable__content {max-height: 200px;max-width: 100%;overflow: auto;}#sk-container-id-5 input.sk-toggleable__control:checked~label.sk-toggleable__label-arrow:before {content: \"▾\";}#sk-container-id-5 div.sk-estimator input.sk-toggleable__control:checked~label.sk-toggleable__label {background-color: #d4ebff;}#sk-container-id-5 div.sk-label input.sk-toggleable__control:checked~label.sk-toggleable__label {background-color: #d4ebff;}#sk-container-id-5 input.sk-hidden--visually {border: 0;clip: rect(1px 1px 1px 1px);clip: rect(1px, 1px, 1px, 1px);height: 1px;margin: -1px;overflow: hidden;padding: 0;position: absolute;width: 1px;}#sk-container-id-5 div.sk-estimator {font-family: monospace;background-color: #f0f8ff;border: 1px dotted black;border-radius: 0.25em;box-sizing: border-box;margin-bottom: 0.5em;}#sk-container-id-5 div.sk-estimator:hover {background-color: #d4ebff;}#sk-container-id-5 div.sk-parallel-item::after {content: \"\";width: 100%;border-bottom: 1px solid gray;flex-grow: 1;}#sk-container-id-5 div.sk-label:hover label.sk-toggleable__label {background-color: #d4ebff;}#sk-container-id-5 div.sk-serial::before {content: \"\";position: absolute;border-left: 1px solid gray;box-sizing: border-box;top: 0;bottom: 0;left: 50%;z-index: 0;}#sk-container-id-5 div.sk-serial {display: flex;flex-direction: column;align-items: center;background-color: white;padding-right: 0.2em;padding-left: 0.2em;position: relative;}#sk-container-id-5 div.sk-item {position: relative;z-index: 1;}#sk-container-id-5 div.sk-parallel {display: flex;align-items: stretch;justify-content: center;background-color: white;position: relative;}#sk-container-id-5 div.sk-item::before, #sk-container-id-5 div.sk-parallel-item::before {content: \"\";position: absolute;border-left: 1px solid gray;box-sizing: border-box;top: 0;bottom: 0;left: 50%;z-index: -1;}#sk-container-id-5 div.sk-parallel-item {display: flex;flex-direction: column;z-index: 1;position: relative;background-color: white;}#sk-container-id-5 div.sk-parallel-item:first-child::after {align-self: flex-end;width: 50%;}#sk-container-id-5 div.sk-parallel-item:last-child::after {align-self: flex-start;width: 50%;}#sk-container-id-5 div.sk-parallel-item:only-child::after {width: 0;}#sk-container-id-5 div.sk-dashed-wrapped {border: 1px dashed gray;margin: 0 0.4em 0.5em 0.4em;box-sizing: border-box;padding-bottom: 0.4em;background-color: white;}#sk-container-id-5 div.sk-label label {font-family: monospace;font-weight: bold;display: inline-block;line-height: 1.2em;}#sk-container-id-5 div.sk-label-container {text-align: center;}#sk-container-id-5 div.sk-container {/* jupyter's `normalize.less` sets `[hidden] { display: none; }` but bootstrap.min.css set `[hidden] { display: none !important; }` so we also need the `!important` here to be able to override the default hidden behavior on the sphinx rendered scikit-learn.org. See: https://github.com/scikit-learn/scikit-learn/issues/21755 */display: inline-block !important;position: relative;}#sk-container-id-5 div.sk-text-repr-fallback {display: none;}</style><div id=\"sk-container-id-5\" class=\"sk-top-container\"><div class=\"sk-text-repr-fallback\"><pre>RandomForestRegressor(random_state=42)</pre><b>In a Jupyter environment, please rerun this cell to show the HTML representation or trust the notebook. <br />On GitHub, the HTML representation is unable to render, please try loading this page with nbviewer.org.</b></div><div class=\"sk-container\" hidden><div class=\"sk-item\"><div class=\"sk-estimator sk-toggleable\"><input class=\"sk-toggleable__control sk-hidden--visually\" id=\"sk-estimator-id-5\" type=\"checkbox\" checked><label for=\"sk-estimator-id-5\" class=\"sk-toggleable__label sk-toggleable__label-arrow\">RandomForestRegressor</label><div class=\"sk-toggleable__content\"><pre>RandomForestRegressor(random_state=42)</pre></div></div></div></div></div>"
      ],
      "text/plain": [
       "RandomForestRegressor(random_state=42)"
      ]
     },
     "execution_count": 62,
     "metadata": {},
     "output_type": "execute_result"
    }
   ],
   "source": [
    "forest_clf_conventions.fit(X_train, y_train['conventions'])"
   ]
  },
  {
   "cell_type": "code",
   "execution_count": 63,
   "metadata": {
    "id": "O7nIljFxEiMc"
   },
   "outputs": [
    {
     "data": {
      "text/plain": [
       "0.8821120174615839"
      ]
     },
     "execution_count": 63,
     "metadata": {},
     "output_type": "execute_result"
    }
   ],
   "source": [
    "forest_clf_conventions.score(X_train, y_train['conventions'])"
   ]
  },
  {
   "cell_type": "code",
   "execution_count": 64,
   "metadata": {
    "id": "rb6c2JPCEiMc"
   },
   "outputs": [],
   "source": [
    "# O \"score\" vai ser a probabilidade de que a amostra seja da classe positiva.\n",
    "forest_scores_conventions = cross_val_score(\n",
    "    forest_clf_conventions,\n",
    "    X_train,\n",
    "    y_train['conventions'],\n",
    "    cv= 10,\n",
    "    scoring='neg_root_mean_squared_error',\n",
    "    n_jobs=-1,\n",
    ")"
   ]
  },
  {
   "cell_type": "code",
   "execution_count": 65,
   "metadata": {
    "id": "pyXYRFe3EiMc"
   },
   "outputs": [
    {
     "data": {
      "text/plain": [
       "array([-0.63410822, -0.62276393, -0.62499867, -0.62617281, -0.63744394,\n",
       "       -0.57588284, -0.59804375, -0.60868816, -0.59533325, -0.59321747])"
      ]
     },
     "execution_count": 65,
     "metadata": {},
     "output_type": "execute_result"
    }
   ],
   "source": [
    "forest_scores_conventions"
   ]
  },
  {
   "cell_type": "markdown",
   "metadata": {},
   "source": [
    "Logo, foram obtidos como resultados um erro médio de 0,61 e um desvio padrão de aproximadamente 0,019."
   ]
  },
  {
   "cell_type": "code",
   "execution_count": 66,
   "metadata": {
    "id": "SWQgSqS0EiMc"
   },
   "outputs": [
    {
     "name": "stdout",
     "output_type": "stream",
     "text": [
      "Scores: [0.63 0.62 0.62 0.63 0.64 0.58 0.6  0.61 0.6  0.59]\n",
      "Mean: 0.6116653056644433\n",
      "Standard deviation: 0.019394592146565658\n"
     ]
    }
   ],
   "source": [
    "display_scores(-forest_scores_conventions)"
   ]
  },
  {
   "cell_type": "markdown",
   "metadata": {
    "id": "IUDKPAr9K4Xa"
   },
   "source": [
    "**MCRMSE RANDOM FOREST:**\n",
    "\n",
    "Como estamos trabalhando com 6 variáveis dependentes diferentes, podemos fazer uma média de todos os erros obtidos para tentar estimar de maneira mais concisa e unificada o erro geral do modelo, que é o que foi feito abaixo:"
   ]
  },
  {
   "cell_type": "code",
   "execution_count": 68,
   "metadata": {
    "id": "8wIpcG08K90f"
   },
   "outputs": [
    {
     "data": {
      "text/plain": [
       "0.5971462559562841"
      ]
     },
     "execution_count": 68,
     "metadata": {},
     "output_type": "execute_result"
    }
   ],
   "source": [
    "random = np.mean([-forest_scores_conventions.mean(), -forest_scores_grammar.mean(), -forest_scores_phraseology.mean(), -forest_scores_cohesion.mean(), -forest_scores_syntax.mean(), -forest_scores_vocabulary.mean()])\n",
    "random\n",
    "#mean()"
   ]
  },
  {
   "cell_type": "markdown",
   "metadata": {},
   "source": [
    "Dessa forma, podemos concluir que o *negative mean root squared error* médio para o modelo do Random Forest é de aproximadamente 0,597. Além disso, para depois conseguir plotar um diagrama de caixas e comparar o desempenho da validação cruzada para cada um dos modelos, juntamos todos os resultados obtidos pela execução do *cross_val* em uma lista:"
   ]
  },
  {
   "cell_type": "code",
   "execution_count": 69,
   "metadata": {
    "id": "ECi-McpaQYWu"
   },
   "outputs": [
    {
     "data": {
      "text/plain": [
       "[0.6137712279952132,\n",
       " 0.5797781041847427,\n",
       " 0.615575718107703,\n",
       " 0.6049572010401756,\n",
       " 0.5892215695968518,\n",
       " 0.5992809200974071,\n",
       " 0.5974009242843398,\n",
       " 0.5849003855001332,\n",
       " 0.6022725217453687,\n",
       " 0.5843039870109056]"
      ]
     },
     "execution_count": 69,
     "metadata": {},
     "output_type": "execute_result"
    }
   ],
   "source": [
    "forest_means = []\n",
    "for i in range(len(forest_scores_conventions)):\n",
    "    forest_means.append(np.mean([-forest_scores_conventions[i], -forest_scores_grammar[i], -forest_scores_phraseology[i], -forest_scores_cohesion[i], -forest_scores_syntax[i], -forest_scores_vocabulary[i]]))\n",
    "\n",
    "forest_means"
   ]
  },
  {
   "cell_type": "markdown",
   "metadata": {
    "id": "dAvNxUR3Khl8"
   },
   "source": [
    "# Regressão Linear\n",
    "\n",
    "Agora vamos testar o desempenho dos dados em um modelo de regressão linear. Mas antes, será descrito como esse algoritmo funciona. \n",
    "\n",
    "Tem-se que a regressçao linear é um dos algoritmos mais comuns e mais utilizados como ponto de partida para muitos projetos de Machine Learning. A regressão linear é usada para prever o valor de uma variável dependente com base no valor de outra - que é(são) a(s) variável(is) independentes, ou seja, o modelo estima os coeficientes da equação linear e ajusta uma linha reta que minimize as discrepâncias entre os valores de saída reais e previstos.\n",
    "\n",
    "\n",
    "**2 a) REGRESSÃO LINEAR**\n",
    "\n",
    "Primeiro, começaremos treinando modelo com a variável dependente sendo o *grammar*. E assim como foi feito para o primeiro modelo testado, o Random Forest, iremos dividir o conjunto de treinamento em 10 pedaços e para cada iteração o modelo treinará com os nove pedaços e depois testará o desempenho naquele um pedaço restante.\n"
   ]
  },
  {
   "cell_type": "code",
   "execution_count": 70,
   "metadata": {
    "id": "c90ef7fa"
   },
   "outputs": [
    {
     "name": "stdout",
     "output_type": "stream",
     "text": [
      "Scores: [0.63 0.64 0.66 0.61 0.6  0.63 0.65 0.63 0.64 0.65]\n",
      "Mean: 0.6345936075655059\n",
      "Standard deviation: 0.01756551019406965\n"
     ]
    }
   ],
   "source": [
    "from sklearn.linear_model import LinearRegression\n",
    "\n",
    "# define model\n",
    "model_grammar = LinearRegression()\n",
    "# fit model\n",
    "model_grammar.fit(X_train, y_train['grammar'])\n",
    "# make a prediction\n",
    "\n",
    "linear_scores_grammar = cross_val_score(\n",
    "    model_grammar,\n",
    "    X_train,\n",
    "    y_train['grammar'],\n",
    "    cv= 10,\n",
    "    scoring='neg_root_mean_squared_error',\n",
    "    n_jobs=-1,\n",
    ")\n",
    "\n",
    "display_scores(-linear_scores_grammar)"
   ]
  },
  {
   "cell_type": "markdown",
   "metadata": {},
   "source": [
    "Como pode ser visto, a média de erro para o parâmetro gramática foi de aproximadamente 0,63 e o desvio-padrão de aproximadamento 0,017."
   ]
  },
  {
   "cell_type": "markdown",
   "metadata": {
    "id": "4l883wyjF3mH"
   },
   "source": [
    "**2 b) LINEAR REGRESSION**\n",
    "\n",
    "Agora treinaremos o modelo de regressão linear com o parâmetro *phraseology* e depois faremos a validação cruzada da mesma maneira feita anteriormente."
   ]
  },
  {
   "cell_type": "code",
   "execution_count": 71,
   "metadata": {
    "id": "b881ffdd"
   },
   "outputs": [
    {
     "name": "stdout",
     "output_type": "stream",
     "text": [
      "Scores: [0.61 0.6  0.59 0.56 0.57 0.61 0.58 0.58 0.57 0.6 ]\n",
      "Mean: 0.5870533835999201\n",
      "Standard deviation: 0.01645062166936365\n"
     ]
    }
   ],
   "source": [
    "from sklearn.linear_model import LinearRegression\n",
    "\n",
    "# define model\n",
    "model_phraseology = LinearRegression()\n",
    "# fit model\n",
    "model_phraseology.fit(X_train, y_train['phraseology'])\n",
    "# make a prediction\n",
    "\n",
    "linear_scores_phraseology = cross_val_score(\n",
    "    model_phraseology,\n",
    "    X_train,\n",
    "    y_train['phraseology'],\n",
    "    cv= 10,\n",
    "    scoring='neg_root_mean_squared_error',\n",
    "    n_jobs=-1,\n",
    ")\n",
    "\n",
    "display_scores(-linear_scores_phraseology)"
   ]
  },
  {
   "cell_type": "markdown",
   "metadata": {},
   "source": [
    "A média para o *root mean squared error* para o parâmetro phraseology obtido foi de 0,58, tendo como desvio-padrão o valor de 0,016."
   ]
  },
  {
   "cell_type": "markdown",
   "metadata": {
    "id": "Cm9MKio6GffI"
   },
   "source": [
    "**2 c) LINEAR REGRESSION**\n",
    "\n",
    "Novamente o processo de treinamento e validação cruzada será repetido, mas agora para o parâmetro *syntax*:"
   ]
  },
  {
   "cell_type": "code",
   "execution_count": 72,
   "metadata": {
    "id": "VvBTSrkmW6Po"
   },
   "outputs": [
    {
     "name": "stdout",
     "output_type": "stream",
     "text": [
      "Scores: [0.56 0.57 0.59 0.59 0.57 0.59 0.57 0.55 0.6  0.57]\n",
      "Mean: 0.5761651465509934\n",
      "Standard deviation: 0.01480218961744205\n"
     ]
    }
   ],
   "source": [
    "from sklearn.linear_model import LinearRegression\n",
    "\n",
    "# define model\n",
    "model_syntax = LinearRegression()\n",
    "# fit model\n",
    "model_syntax.fit(X_train, y_train['syntax'])\n",
    "# make a prediction\n",
    "\n",
    "linear_scores_syntax = cross_val_score(\n",
    "    model_syntax,\n",
    "    X_train,\n",
    "    y_train['syntax'],\n",
    "    cv= 10,\n",
    "    scoring='neg_root_mean_squared_error',\n",
    "    n_jobs=-1,\n",
    ")\n",
    "\n",
    "display_scores(-linear_scores_syntax)"
   ]
  },
  {
   "cell_type": "markdown",
   "metadata": {},
   "source": [
    "Como visto acima, a média dos *scores* para esse parâmetro é de aproximadamente 0,57, com um desvio padrão de aproximadamente 0,015."
   ]
  },
  {
   "cell_type": "markdown",
   "metadata": {
    "id": "mW8_wy2OGvLq"
   },
   "source": [
    "**2 d) LINEAR REGRESSION**\n",
    "\n",
    "Agora treinaremos o modelo de regressão linear com o parâmetro *cohesion* e depois faremos a validação cruzada da mesma maneira feita anteriormente."
   ]
  },
  {
   "cell_type": "code",
   "execution_count": 73,
   "metadata": {
    "id": "oV9Q8BJYW79N"
   },
   "outputs": [
    {
     "name": "stdout",
     "output_type": "stream",
     "text": [
      "Scores: [0.6  0.6  0.64 0.61 0.6  0.6  0.6  0.6  0.59 0.61]\n",
      "Mean: 0.604609538187044\n",
      "Standard deviation: 0.0128120498768639\n"
     ]
    }
   ],
   "source": [
    "from sklearn.linear_model import LinearRegression\n",
    "\n",
    "# define model\n",
    "model_cohesion = LinearRegression()\n",
    "# fit model\n",
    "model_cohesion.fit(X_train, y_train['cohesion'])\n",
    "# make a prediction\n",
    "\n",
    "linear_scores_cohesion = cross_val_score(\n",
    "    model_cohesion,\n",
    "    X_train,\n",
    "    y_train['cohesion'],\n",
    "    cv= 10,\n",
    "    scoring='neg_root_mean_squared_error',\n",
    "    n_jobs=-1,\n",
    ")\n",
    "\n",
    "display_scores(-linear_scores_cohesion)"
   ]
  },
  {
   "cell_type": "markdown",
   "metadata": {},
   "source": [
    "Como pode ser observado acima, a médio do *root mean squared error* é de aproximadamente 0,60 e desvio padrão de aproximadamente 0,012."
   ]
  },
  {
   "cell_type": "markdown",
   "metadata": {
    "id": "2pprW1ezHPlI"
   },
   "source": [
    "**2 e) LINEAR REGRESSION**\n",
    "\n",
    "Mais uma vez o modelo será treinado, mas agora com o parâmetro *vocabulary*, e após o treinamento a validação cruzada será feita:"
   ]
  },
  {
   "cell_type": "code",
   "execution_count": 74,
   "metadata": {
    "id": "placwV7NOZLx"
   },
   "outputs": [
    {
     "name": "stdout",
     "output_type": "stream",
     "text": [
      "Scores: [0.58 0.52 0.54 0.53 0.5  0.55 0.52 0.52 0.54 0.49]\n",
      "Mean: 0.5304721546004249\n",
      "Standard deviation: 0.024356204345169226\n"
     ]
    }
   ],
   "source": [
    "from sklearn.linear_model import LinearRegression\n",
    "\n",
    "# define model\n",
    "model_vocabulary = LinearRegression()\n",
    "# fit model\n",
    "model_vocabulary.fit(X_train, y_train['vocabulary'])\n",
    "# make a prediction\n",
    "\n",
    "linear_scores_vocabulary = cross_val_score(\n",
    "    model_vocabulary,\n",
    "    X_train,\n",
    "    y_train['vocabulary'],\n",
    "    cv= 10,\n",
    "    scoring='neg_root_mean_squared_error',\n",
    "    n_jobs=-1,\n",
    ")\n",
    "\n",
    "display_scores(-linear_scores_vocabulary)"
   ]
  },
  {
   "cell_type": "markdown",
   "metadata": {},
   "source": [
    "Como resultado, foi obtida uma média de erro de aproximadamente 0,53 e com um desvio-padrão de 0,024."
   ]
  },
  {
   "cell_type": "markdown",
   "metadata": {
    "id": "uLMf1tQEHeG7"
   },
   "source": [
    "**2 f) LINEAR REGRESSION**\n",
    "\n",
    "Por fim, todo o processo será repetido para o parâmetro *conventions*:"
   ]
  },
  {
   "cell_type": "code",
   "execution_count": 75,
   "metadata": {
    "id": "4u23mUEIHqlj"
   },
   "outputs": [
    {
     "name": "stdout",
     "output_type": "stream",
     "text": [
      "Scores: [0.58 0.57 0.59 0.57 0.61 0.56 0.56 0.6  0.56 0.6 ]\n",
      "Mean: 0.5817703499711679\n",
      "Standard deviation: 0.019158670163722986\n"
     ]
    }
   ],
   "source": [
    "from sklearn.linear_model import LinearRegression\n",
    "\n",
    "# define model\n",
    "model_conventions = LinearRegression()\n",
    "# fit model\n",
    "model_conventions.fit(X_train, y_train['conventions'])\n",
    "# make a prediction\n",
    "\n",
    "linear_scores_conventions = cross_val_score(\n",
    "    model_conventions,\n",
    "    X_train,\n",
    "    y_train['conventions'],\n",
    "    cv= 10,\n",
    "    scoring='neg_root_mean_squared_error',\n",
    "    n_jobs=-1,\n",
    ")\n",
    "\n",
    "display_scores(-linear_scores_conventions)"
   ]
  },
  {
   "cell_type": "markdown",
   "metadata": {},
   "source": [
    "E como resultados finais, foi obtida uma média de erro de aproximadamente 0,58 e um desvio-padrão de 0,019."
   ]
  },
  {
   "cell_type": "markdown",
   "metadata": {
    "id": "uq6PqUMzOPsl"
   },
   "source": [
    "**MCRMSE LINEAR REGRESSION:**\n",
    "\n",
    "Como estamos trabalhando com 6 variáveis dependentes diferentes, podemos fazer uma média de todos os erros obtidos para tentar estimar de maneira mais concisa e unificada o erro geral do modelo, que é o que foi feito abaixo:"
   ]
  },
  {
   "cell_type": "code",
   "execution_count": 76,
   "metadata": {
    "id": "xVA94-dcOTMF"
   },
   "outputs": [
    {
     "data": {
      "text/plain": [
       "0.5857773634125093"
      ]
     },
     "execution_count": 76,
     "metadata": {},
     "output_type": "execute_result"
    }
   ],
   "source": [
    "linear = np.mean([-linear_scores_grammar.mean(), -linear_scores_phraseology.mean(), -linear_scores_syntax.mean(), -linear_scores_cohesion.mean(), -linear_scores_vocabulary.mean(), -linear_scores_conventions.mean()])\n",
    "linear"
   ]
  },
  {
   "cell_type": "markdown",
   "metadata": {},
   "source": [
    "Dessa forma, podemos concluir que o mean root squared error médio para o modelo de Regressão Linear é de aproximadamente 0,585 - menor que o erro médio obtido para o modelo do Random Forest. \n",
    "\n",
    "Além disso, para depois conseguir plotar um diagrama de caixas e comparar o desempenho da validação cruzada para cada um dos modelos, juntamos todos os resultados obtidos pela execução do cross_val em uma lista."
   ]
  },
  {
   "cell_type": "code",
   "execution_count": 77,
   "metadata": {
    "id": "X08R8kXUTCpJ"
   },
   "outputs": [
    {
     "data": {
      "text/plain": [
       "[0.5914342092591683,\n",
       " 0.5829052436319458,\n",
       " 0.602490129609517,\n",
       " 0.5784152617650649,\n",
       " 0.5776187760364679,\n",
       " 0.5906567481326818,\n",
       " 0.5810498112087835,\n",
       " 0.5807263861045638,\n",
       " 0.585122560463429,\n",
       " 0.5873545079134714]"
      ]
     },
     "execution_count": 77,
     "metadata": {},
     "output_type": "execute_result"
    }
   ],
   "source": [
    "linear_means = []\n",
    "for i in range(len(linear_scores_conventions)):\n",
    "    linear_means.append(np.mean([-linear_scores_conventions[i], -linear_scores_grammar[i], -linear_scores_phraseology[i], -linear_scores_cohesion[i], -linear_scores_syntax[i], -linear_scores_vocabulary[i]]))\n",
    "\n",
    "linear_means"
   ]
  },
  {
   "cell_type": "markdown",
   "metadata": {
    "id": "dFX2lnq2PwUm"
   },
   "source": [
    "# Support Vector Regression \n",
    "\n",
    "\n",
    "Como visto anteriormente, para o modelo de regressão linear o objetivo é minimizar a soma dos erros quadráticos. De tal forma que existem extensões para essa equação de maneira a diminuir a complexidade da regressão e reduzir o número de features a serem utilizadas no modelo final, como as regularizações Lasso, Ridge e ElasticNet. Mas, e se estivermos apenas tentando reduzir o erro até um certo ponto, ou seja, se o tamanho dos erros não forem tão importantes (desde que estejam em um intervalo aceitável).  É essa flexibilidade que o Support Vector Regression fornece, de maneira a definir o intervalo de erros aceitáveis no modelo e para encontrar uma linha (ou um hiperplano - dependendo de quantas dimensões os dados possuem) que consiga se ajustar os dados - mas sem ajustar com excesso, pois isso iria causar *overfitting* nos dados. \n",
    "\n",
    "Entretanto, ao invés de focar em diminuir os erros, o objetivo do SVR é minimizar os coeficientes, enquanto o erro é definido através de restrições nas quais o erro absoluto é menor ou igual a uma margem especificada - que é chamada de erro máximo (ϵ - epsilon) - e é ajustando o epsilon que podemos tunar a acurácia do modelo.\n",
    "\n",
    "A ideia é bem parecida com a do Support Vector Machines, como pode ser visto abaixo:\n",
    "\n",
    "<img src=\"svr.png\" width=700 height=400 />\n",
    "\n",
    "Imagem retirada de: https://medium.com/it-paragon/support-vector-machine-regression-cf65348b6345 .\n",
    "\n",
    "**3 a) SVR**\n",
    "\n",
    "Agora vamos treinar o modelo do Suppport Vector Regression e fazer uma validação cruzada com 10 partições para o parâmetro *grammar*. Importante salientar que como nenhum valor foi passado para a função, o epsilon utilizado é 0.1 e o parâmetro C (parâmetro de regularização da função de custo)  é igual a 1."
   ]
  },
  {
   "cell_type": "code",
   "execution_count": 78,
   "metadata": {
    "id": "GMuH1YhrTTXe"
   },
   "outputs": [
    {
     "name": "stdout",
     "output_type": "stream",
     "text": [
      "Scores: [0.6  0.6  0.61 0.59 0.57 0.62 0.62 0.6  0.62 0.61]\n",
      "Mean: 0.6035214744908166\n",
      "Standard deviation: 0.014409937077585729\n"
     ]
    }
   ],
   "source": [
    "from sklearn.svm import SVR\n",
    "\n",
    "svr_regression_grammar = SVR(kernel='linear')\n",
    "\n",
    "svr_score_grammar = cross_val_score(\n",
    "    svr_regression_grammar,\n",
    "    X_train,\n",
    "    y_train['grammar'],\n",
    "    cv= 10,\n",
    "    scoring=\"neg_root_mean_squared_error\",\n",
    "    n_jobs=-1,\n",
    ")\n",
    "\n",
    "display_scores(-svr_score_grammar)"
   ]
  },
  {
   "cell_type": "markdown",
   "metadata": {},
   "source": [
    "Como erro médio quadrático obtido tivemos aproximadamente 0,603 e um desvio-padrão de aproximadamente 0,014."
   ]
  },
  {
   "cell_type": "markdown",
   "metadata": {
    "id": "VrIMF4MmUCkv"
   },
   "source": [
    "**3 b) SVR**\n",
    "\n",
    "Mais uma vez o processo anterior será repetido, mas agora para o parâmetro *phraseology*:"
   ]
  },
  {
   "cell_type": "code",
   "execution_count": 79,
   "metadata": {
    "id": "tHA8Iuw2UB6t"
   },
   "outputs": [
    {
     "name": "stdout",
     "output_type": "stream",
     "text": [
      "Scores: [0.59 0.55 0.58 0.56 0.56 0.6  0.55 0.54 0.55 0.56]\n",
      "Mean: 0.5620245352315925\n",
      "Standard deviation: 0.017997676692858757\n"
     ]
    }
   ],
   "source": [
    "from sklearn.svm import SVR\n",
    "\n",
    "svr_regression_phraseology = SVR(kernel='linear')\n",
    "\n",
    "svr_score_phraseology = cross_val_score(\n",
    "    svr_regression_phraseology,\n",
    "    X_train,\n",
    "    y_train['phraseology'],\n",
    "    cv=10,\n",
    "    scoring=\"neg_root_mean_squared_error\",\n",
    "    n_jobs=-1,\n",
    ")\n",
    "\n",
    "display_scores(-svr_score_phraseology)"
   ]
  },
  {
   "cell_type": "markdown",
   "metadata": {},
   "source": [
    "Como pode ser visto, o erro médio foi de aproximadamente 0,56 com um desvio-padrão de aproximadamente 0,018."
   ]
  },
  {
   "cell_type": "markdown",
   "metadata": {
    "id": "1CQDeXWTVdK6"
   },
   "source": [
    "**3 c) SVR**\n",
    "\n",
    "Agora testaremos o modelo do SVR para o parâmetro *syntax*:\n"
   ]
  },
  {
   "cell_type": "code",
   "execution_count": 80,
   "metadata": {
    "id": "D1afNcDgVvxA"
   },
   "outputs": [
    {
     "name": "stdout",
     "output_type": "stream",
     "text": [
      "Scores: [0.55 0.51 0.57 0.57 0.54 0.57 0.55 0.52 0.56 0.53]\n",
      "Mean: 0.5476740953982311\n",
      "Standard deviation: 0.02145689450263645\n"
     ]
    }
   ],
   "source": [
    "svr_regression_syntax = SVR(kernel='linear')\n",
    "\n",
    "svr_score_syntax = cross_val_score(\n",
    "    svr_regression_syntax,\n",
    "    X_train,\n",
    "    y_train['syntax'],\n",
    "    cv=10,\n",
    "    scoring=\"neg_root_mean_squared_error\",\n",
    "    n_jobs=-1,\n",
    ")\n",
    "\n",
    "display_scores(-svr_score_syntax)"
   ]
  },
  {
   "cell_type": "markdown",
   "metadata": {},
   "source": [
    "Como resultados foram obtidos:\n",
    "- Erro médio quadrático aproximadamente igual a 0,55\n",
    "- Desvio-padrão aproximadamente igual a 0,021."
   ]
  },
  {
   "cell_type": "markdown",
   "metadata": {
    "id": "7oqMXUp8V3yz"
   },
   "source": [
    "**3 d) SVR**\n",
    "\n",
    "Mais uma vez realizando a validação cruzada para outra variável dependente: a *cohesion*:\n"
   ]
  },
  {
   "cell_type": "code",
   "execution_count": 81,
   "metadata": {
    "id": "kH769_xtWCkF"
   },
   "outputs": [
    {
     "name": "stdout",
     "output_type": "stream",
     "text": [
      "Scores: [0.58 0.55 0.6  0.55 0.57 0.59 0.58 0.55 0.59 0.57]\n",
      "Mean: 0.5724046316124405\n",
      "Standard deviation: 0.014966227577992226\n"
     ]
    }
   ],
   "source": [
    "svr_regression_cohesion = SVR(kernel='linear')\n",
    "\n",
    "svr_score_cohesion = cross_val_score(\n",
    "    svr_regression_cohesion,\n",
    "    X_train,\n",
    "    y_train['cohesion'],\n",
    "    cv=10,\n",
    "    scoring=\"neg_root_mean_squared_error\",\n",
    "    n_jobs=-1,\n",
    ")\n",
    "\n",
    "display_scores(-svr_score_cohesion)"
   ]
  },
  {
   "cell_type": "markdown",
   "metadata": {},
   "source": [
    "Como resultados foram obtidos:\n",
    "- Erro médio quadrático aproximadamente igual a 0,57\n",
    "- Desvio-padrão aproximadamente igual a 0,015."
   ]
  },
  {
   "cell_type": "markdown",
   "metadata": {
    "id": "TC867SYGWuRl"
   },
   "source": [
    "**3 e) SVR**\n",
    "\n",
    "Agora, aplicamos a validação cruzada do SVR para o parâmetro *vocabulary*:"
   ]
  },
  {
   "cell_type": "code",
   "execution_count": 82,
   "metadata": {
    "id": "cwQ9sqCvWtxm"
   },
   "outputs": [
    {
     "name": "stdout",
     "output_type": "stream",
     "text": [
      "Scores: [0.56 0.5  0.52 0.51 0.48 0.51 0.51 0.49 0.5  0.48]\n",
      "Mean: 0.5059246315657082\n",
      "Standard deviation: 0.021334577890415176\n"
     ]
    }
   ],
   "source": [
    "svr_regression_vocabulary = SVR(kernel='linear')\n",
    "\n",
    "svr_score_vocabulary = cross_val_score(\n",
    "    svr_regression_vocabulary,\n",
    "    X_train,\n",
    "    y_train['vocabulary'],\n",
    "    cv=10,\n",
    "    scoring=\"neg_root_mean_squared_error\",\n",
    "    n_jobs=-1,\n",
    ")\n",
    "\n",
    "display_scores(-svr_score_vocabulary)"
   ]
  },
  {
   "cell_type": "markdown",
   "metadata": {},
   "source": [
    "Como resultados foram obtidos:\n",
    "- Erro médio quadrático aproximadamente igual a 0,50.\n",
    "- Desvio-padrão aproximadamente igual a 0,021."
   ]
  },
  {
   "cell_type": "markdown",
   "metadata": {
    "id": "yzsUqOLaXHEV"
   },
   "source": [
    "**3 f) SVR**\n",
    "\n",
    "Por fim, aplicamos a validação cruzada pela última vez no modelo SVR para o parâmetro *conventions:*"
   ]
  },
  {
   "cell_type": "code",
   "execution_count": 83,
   "metadata": {
    "id": "wRKnJDDhXXOv"
   },
   "outputs": [
    {
     "name": "stdout",
     "output_type": "stream",
     "text": [
      "Scores: [0.6  0.58 0.58 0.56 0.6  0.55 0.55 0.57 0.55 0.56]\n",
      "Mean: 0.5694909630876988\n",
      "Standard deviation: 0.018302244791206734\n"
     ]
    }
   ],
   "source": [
    "svr_regression_conventions = SVR(kernel='linear')\n",
    "\n",
    "svr_score_conventions = cross_val_score(\n",
    "    svr_regression_conventions,\n",
    "    X_train,\n",
    "    y_train['conventions'],\n",
    "    cv=10,\n",
    "    scoring=\"neg_root_mean_squared_error\",\n",
    "    n_jobs=-1,\n",
    ")\n",
    "\n",
    "display_scores(-svr_score_conventions)"
   ]
  },
  {
   "cell_type": "markdown",
   "metadata": {},
   "source": [
    "Como resultados foram obtidos:\n",
    "- Erro médio quadrático aproximadamente igual a 0,57\n",
    "- Desvio-padrão aproximadamente igual a 0,018."
   ]
  },
  {
   "cell_type": "markdown",
   "metadata": {
    "id": "QciJ42H9_XsN"
   },
   "source": [
    "**MCRMSE SVR**\n",
    "\n",
    "Como estamos trabalhando com 6 variáveis dependentes diferentes, podemos fazer uma média de todos os erros obtidos para tentar estimar de maneira mais concisa e unificada o erro geral do modelo, que é o que foi feito abaixo:"
   ]
  },
  {
   "cell_type": "code",
   "execution_count": 84,
   "metadata": {
    "id": "Z3l3NsAV_W54"
   },
   "outputs": [
    {
     "data": {
      "text/plain": [
       "0.5601733885644147"
      ]
     },
     "execution_count": 84,
     "metadata": {},
     "output_type": "execute_result"
    }
   ],
   "source": [
    "svr = np.mean([-svr_score_conventions.mean(), -svr_score_grammar.mean(), -svr_score_cohesion.mean(), -svr_score_phraseology.mean(), -svr_score_syntax.mean(), -svr_score_vocabulary.mean()])\n",
    "svr"
   ]
  },
  {
   "cell_type": "markdown",
   "metadata": {},
   "source": [
    "Dessa forma, podemos concluir que o mean root squared error médio para o modelo do Support Vector Regression é de aproximadamente 0,56 - menor que o erro médio obtido para o modelo do Random Forest e pela Regressão Linear. \n",
    "\n",
    "Além disso, para depois conseguir plotar um diagrama de caixas e comparar o desempenho da validação cruzada para cada um dos modelos, juntamos todos os resultados obtidos pela execução do cross_val em uma lista."
   ]
  },
  {
   "cell_type": "code",
   "execution_count": 85,
   "metadata": {
    "id": "rEawOOA2TusQ"
   },
   "outputs": [
    {
     "data": {
      "text/plain": [
       "[0.5789935155489215,\n",
       " 0.5485607628111888,\n",
       " 0.5763125847635303,\n",
       " 0.5571995848740471,\n",
       " 0.5543068720366923,\n",
       " 0.5733941180379362,\n",
       " 0.5568699488899794,\n",
       " 0.5450340057223805,\n",
       " 0.5601438829032598,\n",
       " 0.5509186100562103]"
      ]
     },
     "execution_count": 85,
     "metadata": {},
     "output_type": "execute_result"
    }
   ],
   "source": [
    "svr_means = []\n",
    "for i in range(len(svr_score_conventions)):\n",
    "    svr_means.append(np.mean([-svr_score_conventions[i], -svr_score_grammar[i], -svr_score_phraseology[i], -svr_score_cohesion[i], -svr_score_syntax[i], -svr_score_vocabulary[i]]))\n",
    "\n",
    "svr_means"
   ]
  },
  {
   "cell_type": "markdown",
   "metadata": {
    "id": "T6_ke6QpPlAZ"
   },
   "source": [
    "# Stochastic Gradient Descent\n",
    "\n",
    "O Gradient Descent é um método de treinamento que é bastante genérico, que serve para diferentes regressores - que é o que utilizaremos no projeto - ou classificadores, sendo que os regressores são utilizados para predições em que a variável dependente é quantitativa e que os classificadores são utilizados para quando a variável dependente é qualitativa. \n",
    "\n",
    "O grande objetivo do Gradient Descent é encontrar o menor erro possível - daí vem o nome do método que é máximo declive. A melhor maneira de entendê-lo é pensando na seguinte situação: caso você esteja perdido nas montanhas e a névoa esteja tão forte que você não consiga enxergar onde você deve ir para descer da montanha e chegar no vale, de tal forma que a única coisa que você tem é a inclinação do chão abaixo dos seus pés, a cada passo que você descer, você pode descer na direção de declive mais acentuado. E isso é o que o Gradient Descent faz, ele calcula o gradiente local da função de erro (que indica a direção onde o erro mais cresce) e anda no sentido contrário, que seria o gradiente descendente. E quando o gradiente for zero, isso significa que um ponto de mínimo foi atingido. Sendo cada passos dado para diminuir o erro é chamado de passo de aprendizado - que é um hiperparâmetro que precisa ser ajustado. Importante notar que para encontrar o ponto mais baixo não podemos dar passos muitos grandes e nem passos muito pequenos, pois se forem muito grandes podemos acabar passando do ponto mínimo que queremos e caso sejam muito pequenos isso pode levar muito tempo.\n",
    "\n",
    "E existem algumas diferentes implementações para esse algoritmo, sendo que a que vamos utilizar é o Stochastic Gradient Descent, que ao invés de calcular os gradientes com base no set de treinamento completo (como no Batch GD), ele calculará em apenas uma instância, sendo mais fácil de escapar de mínimos locais e sendo mais rápido de processar. Abaixo temos uma comparação entre três maneira de implementar o Gradient Descent:\n",
    "\n",
    "<img src=\"gradient.png\" width=700 height=400 />\n",
    "\n",
    "Imagem retirada de Géron.\n",
    "\n",
    "**4) a  SGD**\n",
    "\n",
    "Começaremos treinando o modelo e fazendo o teste de validação cruzada para o parâmetro *grammar*:"
   ]
  },
  {
   "cell_type": "code",
   "execution_count": 86,
   "metadata": {
    "id": "INkLoXlPPnzg"
   },
   "outputs": [
    {
     "name": "stdout",
     "output_type": "stream",
     "text": [
      "Scores: [0.69 0.69 0.71 0.72 0.66 0.7  0.71 0.68 0.72 0.68]\n",
      "Mean: 0.6958464294913387\n",
      "Standard deviation: 0.018035602576679518\n"
     ]
    }
   ],
   "source": [
    "from sklearn.linear_model import SGDRegressor\n",
    "\n",
    "sgd_rg_grammar = SGDRegressor(\n",
    "    max_iter=5,\n",
    "    tol= -np.infty,\n",
    "    random_state=RANDOM_SEED,\n",
    ")\n",
    "\n",
    "sgd_rg_grammar.fit(X_train, y_train['grammar'])\n",
    "\n",
    "sgd_scores_grammar = cross_val_score(\n",
    "    sgd_rg_grammar,\n",
    "    X_train,\n",
    "    y_train['grammar'],\n",
    "    cv= 10,\n",
    "    scoring='neg_root_mean_squared_error',\n",
    "    n_jobs=-1,\n",
    ")\n",
    "\n",
    "display_scores(-sgd_scores_grammar)\n"
   ]
  },
  {
   "cell_type": "markdown",
   "metadata": {},
   "source": [
    "Como resultados foram obtidos:\n",
    "- Erro médio quadrático aproximadamente igual a 0,69.\n",
    "- Desvio-padrão aproximadamente igual a 0,018."
   ]
  },
  {
   "cell_type": "markdown",
   "metadata": {
    "id": "Zdj_NDv9BAYv"
   },
   "source": [
    "**4 b) SGD**\n",
    "\n",
    "Mais uma vez o processo será repetido utilizando o SGD, mas agora para o parâmetro *phraseology*:"
   ]
  },
  {
   "cell_type": "code",
   "execution_count": 87,
   "metadata": {
    "id": "39V1ib63M7hh"
   },
   "outputs": [
    {
     "name": "stdout",
     "output_type": "stream",
     "text": [
      "Scores: [0.69 0.62 0.67 0.66 0.64 0.68 0.64 0.62 0.64 0.63]\n",
      "Mean: 0.6506244044829274\n",
      "Standard deviation: 0.023578968736684254\n"
     ]
    }
   ],
   "source": [
    "sgd_rg_phraseology = SGDRegressor(\n",
    "    max_iter=5,\n",
    "    tol= -np.infty,\n",
    "    random_state=RANDOM_SEED,\n",
    ")\n",
    "\n",
    "sgd_rg_phraseology.fit(X_train, y_train['phraseology'])\n",
    "\n",
    "sgd_scores_phraseology = cross_val_score(\n",
    "    sgd_rg_phraseology,\n",
    "    X_train,\n",
    "    y_train['phraseology'],\n",
    "    cv= 10,\n",
    "    scoring='neg_root_mean_squared_error',\n",
    "    n_jobs=-1,\n",
    ")\n",
    "\n",
    "display_scores(-sgd_scores_phraseology)"
   ]
  },
  {
   "cell_type": "markdown",
   "metadata": {},
   "source": [
    "Como resultados foram obtidos:\n",
    "- Erro médio quadrático aproximadamente igual a 0,65.\n",
    "- Desvio-padrão aproximadamente igual a 0,023."
   ]
  },
  {
   "cell_type": "markdown",
   "metadata": {
    "id": "NJR1wShCCbSQ"
   },
   "source": [
    "**4 c) SGD**\n",
    "\n",
    "Repetindo a validação cruzada para a variável dependente *syntax*:\n"
   ]
  },
  {
   "cell_type": "code",
   "execution_count": 88,
   "metadata": {
    "id": "Tvxcg03fCQ0i"
   },
   "outputs": [
    {
     "name": "stdout",
     "output_type": "stream",
     "text": [
      "Scores: [0.65 0.6  0.67 0.67 0.63 0.63 0.65 0.62 0.65 0.62]\n",
      "Mean: 0.638708457251518\n",
      "Standard deviation: 0.021923866738436\n"
     ]
    }
   ],
   "source": [
    "sgd_rg_syntax = SGDRegressor(\n",
    "    max_iter=5,\n",
    "    tol= -np.infty,\n",
    "    random_state=RANDOM_SEED,\n",
    ")\n",
    "\n",
    "sgd_rg_syntax.fit(X_train, y_train['syntax'])\n",
    "\n",
    "sgd_scores_syntax = cross_val_score(\n",
    "    sgd_rg_syntax,\n",
    "    X_train,\n",
    "    y_train['syntax'],\n",
    "    cv= 10,\n",
    "    scoring='neg_root_mean_squared_error',\n",
    "    n_jobs=-1,\n",
    ")\n",
    "\n",
    "display_scores(-sgd_scores_syntax)"
   ]
  },
  {
   "cell_type": "markdown",
   "metadata": {},
   "source": [
    "Como resultados foram obtidos:\n",
    "- Erro médio quadrático aproximadamente igual a 0,64.\n",
    "- Desvio-padrão aproximadamente igual a 0,022."
   ]
  },
  {
   "cell_type": "markdown",
   "metadata": {
    "id": "yHxZVmOpCiQj"
   },
   "source": [
    "**4 d) SGD**\n",
    "\n",
    "Agora treinaremos e testaremos com a validação cruzada o modelo SGD para o parâmetro *cohesion*:"
   ]
  },
  {
   "cell_type": "code",
   "execution_count": 89,
   "metadata": {
    "id": "hMkCeTwGCZyW"
   },
   "outputs": [
    {
     "name": "stdout",
     "output_type": "stream",
     "text": [
      "Scores: [0.67 0.62 0.69 0.65 0.64 0.66 0.66 0.65 0.68 0.63]\n",
      "Mean: 0.6548659837076909\n",
      "Standard deviation: 0.02016018178906976\n"
     ]
    }
   ],
   "source": [
    "\n",
    "sgd_rg_cohesion = SGDRegressor(\n",
    "    max_iter=5,\n",
    "    tol= -np.infty,\n",
    "    random_state=RANDOM_SEED,\n",
    ")\n",
    "\n",
    "sgd_rg_cohesion.fit(X_train, y_train['cohesion'])\n",
    "\n",
    "sgd_scores_cohesion = cross_val_score(\n",
    "    sgd_rg_cohesion,\n",
    "    X_train,\n",
    "    y_train['cohesion'],\n",
    "    cv=10,\n",
    "    scoring='neg_root_mean_squared_error',\n",
    "    n_jobs=-1,\n",
    ")\n",
    "\n",
    "display_scores(-sgd_scores_cohesion)"
   ]
  },
  {
   "cell_type": "markdown",
   "metadata": {},
   "source": [
    "Como resultados foram obtidos:\n",
    "- Erro médio quadrático aproximadamente igual a 0,65.\n",
    "- Desvio-padrão aproximadamente igual a 0,020."
   ]
  },
  {
   "cell_type": "markdown",
   "metadata": {
    "id": "Lf1CQ8GBCl_7"
   },
   "source": [
    "**4 e) SGD**\n",
    "\n",
    "Mais uma vez o processo será repetido, mas agora para a variável dependente *vocabulary*:\n"
   ]
  },
  {
   "cell_type": "code",
   "execution_count": 90,
   "metadata": {
    "id": "aFytnBbtCoVl"
   },
   "outputs": [
    {
     "name": "stdout",
     "output_type": "stream",
     "text": [
      "Scores: [0.63 0.56 0.6  0.59 0.54 0.57 0.58 0.56 0.57 0.56]\n",
      "Mean: 0.578109431610679\n",
      "Standard deviation: 0.023734565418359155\n"
     ]
    }
   ],
   "source": [
    "sgd_rg_vocabulary = SGDRegressor(\n",
    "    max_iter=5,\n",
    "    tol= -np.infty,\n",
    "    random_state=RANDOM_SEED,\n",
    ")\n",
    "\n",
    "sgd_rg_vocabulary.fit(X_train, y_train['vocabulary'])\n",
    "\n",
    "sgd_scores_vocabulary = cross_val_score(\n",
    "    sgd_rg_vocabulary,\n",
    "    X_train,\n",
    "    y_train['vocabulary'],\n",
    "    cv=10,\n",
    "    scoring='neg_root_mean_squared_error',\n",
    "    n_jobs=-1,\n",
    ")\n",
    "\n",
    "display_scores(-sgd_scores_vocabulary)"
   ]
  },
  {
   "cell_type": "markdown",
   "metadata": {},
   "source": [
    "Como resultados foram obtidos:\n",
    "- Erro médio quadrático aproximadamente igual a 0,58.\n",
    "- Desvio-padrão aproximadamente igual a 0,024."
   ]
  },
  {
   "cell_type": "markdown",
   "metadata": {
    "id": "yUT-HiieCqKG"
   },
   "source": [
    "**4 f) SGD**\n",
    "\n",
    "Por fim, será feita a validação cruzada para o parâmetro *conventions*:"
   ]
  },
  {
   "cell_type": "code",
   "execution_count": 91,
   "metadata": {
    "id": "USlRFoCmCsP0"
   },
   "outputs": [
    {
     "name": "stdout",
     "output_type": "stream",
     "text": [
      "Scores: [0.69 0.66 0.68 0.68 0.69 0.63 0.65 0.66 0.65 0.64]\n",
      "Mean: 0.6647875929369647\n",
      "Standard deviation: 0.020631043483530096\n"
     ]
    }
   ],
   "source": [
    "sgd_rg_conventions = SGDRegressor(\n",
    "    max_iter=5,\n",
    "    tol= -np.infty,\n",
    "    random_state=RANDOM_SEED,\n",
    ")\n",
    "\n",
    "sgd_rg_conventions.fit(X_train, y_train['conventions'])\n",
    "\n",
    "sgd_scores_conventions = cross_val_score(\n",
    "    sgd_rg_conventions,\n",
    "    X_train,\n",
    "    y_train['conventions'],\n",
    "    cv=10,\n",
    "    scoring='neg_root_mean_squared_error',\n",
    "    n_jobs=-1,\n",
    ")\n",
    "\n",
    "display_scores(-sgd_scores_conventions)"
   ]
  },
  {
   "cell_type": "markdown",
   "metadata": {},
   "source": [
    "Como resultados foram obtidos:\n",
    "- Erro médio quadrático aproximadamente igual a 0,66.\n",
    "- Desvio-padrão aproximadamente igual a 0,021."
   ]
  },
  {
   "cell_type": "markdown",
   "metadata": {
    "id": "xqzH93ObMUBy"
   },
   "source": [
    "**MCRMSE SGD**\n",
    "\n",
    "Como estamos trabalhando com 6 variáveis dependentes diferentes, podemos fazer uma média de todos os erros obtidos para tentar estimar de maneira mais concisa e unificada o erro geral do modelo, que é o que foi feito abaixo:"
   ]
  },
  {
   "cell_type": "code",
   "execution_count": 92,
   "metadata": {
    "id": "zXe1xsGxMZz8"
   },
   "outputs": [
    {
     "data": {
      "text/plain": [
       "0.6471570499135197"
      ]
     },
     "execution_count": 92,
     "metadata": {},
     "output_type": "execute_result"
    }
   ],
   "source": [
    "sgd = np.mean([-sgd_scores_conventions.mean() , -sgd_scores_grammar.mean(), -sgd_scores_vocabulary.mean(), -sgd_scores_phraseology.mean(), -sgd_scores_syntax.mean(), -sgd_scores_cohesion.mean()])\n",
    "sgd"
   ]
  },
  {
   "cell_type": "markdown",
   "metadata": {},
   "source": [
    "Dessa forma, podemos concluir que o mean root squared error médio para o modelo do Stochastic Gradient Descent é de aproximadamente 0,64 - maior que o erro médio obtido para os modelos anteriores.\n",
    "\n",
    "Além disso, para depois conseguir plotar um diagrama de caixas e comparar o desempenho da validação cruzada para cada um dos modelos, juntamos todos os resultados obtidos pela execução do cross_val em uma lista."
   ]
  },
  {
   "cell_type": "code",
   "execution_count": 93,
   "metadata": {
    "id": "1UneMHyzUbXG"
   },
   "outputs": [
    {
     "data": {
      "text/plain": [
       "[0.6702654238098397,\n",
       " 0.6271322685649959,\n",
       " 0.6719542039252174,\n",
       " 0.6626911048971867,\n",
       " 0.6335771640913923,\n",
       " 0.6451190912499752,\n",
       " 0.648136990118995,\n",
       " 0.6311414878764988,\n",
       " 0.6532824265100018,\n",
       " 0.6282703380910942]"
      ]
     },
     "execution_count": 93,
     "metadata": {},
     "output_type": "execute_result"
    }
   ],
   "source": [
    "sgd_means = []\n",
    "for i in range(len(sgd_scores_conventions)):\n",
    "    sgd_means.append(np.mean([-sgd_scores_conventions[i], -sgd_scores_grammar[i], -sgd_scores_phraseology[i], -sgd_scores_cohesion[i], -sgd_scores_syntax[i], -sgd_scores_vocabulary[i]]))\n",
    "\n",
    "sgd_means"
   ]
  },
  {
   "cell_type": "markdown",
   "metadata": {
    "id": "I3e4RA0kFhfN"
   },
   "source": [
    "# Decision Tree\n",
    "\n",
    "As árvores de decisão ou decision trees são similares aos *flowcharts*, de tal forma que se começa com algumas variáveis conhecidas e com aquilo que se queira prever, e conforme a árvore de decisão for descendo, ela vai condicionalmente avaliando as variáveis e resultando em diferentes caminhos, a fim de que no último ramo finalmente será obtida uma predição. Em linguagem de programação é como se tivéssemos várias condições com if e else que no final resultarão em alguma resposta. A melhor forma de entendê-la é visualmente, portanto, abaixo está um exemplo de como funciona a lógica do Decision Tree:\n",
    "\n",
    "<img src=\"decision.png\" width=700 height=400 />\n",
    "\n",
    "Imagem retirada de: https://medium.com/@mirandarevans/explain-it-like-im-five-machine-learning-c3a12a43ec91 .\n"
   ]
  },
  {
   "cell_type": "markdown",
   "metadata": {
    "id": "G0r0WlVCFmXL"
   },
   "source": [
    "**5 a) Decision Tree** \n",
    "\n",
    "Agora vamos treinar o modelo do Decision Tree e fazer uma validação cruzada com 10 partições para o parâmetro *grammar*. Importante salientar que a validação cruzada para o Decision Tree é fundamental, pois caso contrário o modelo iria acabar sob efeito do overfitting, já que para obter uma melhor acurácia basta ir descendo e descendo a árvore, ou seja, aumentar sua profundidade - o que resultará em pequenas amostras de eventos que atendem suposições anteriores e que leva a conclusões sem sentido e de pouca importância."
   ]
  },
  {
   "cell_type": "code",
   "execution_count": 94,
   "metadata": {
    "id": "qarkux3DDoL2"
   },
   "outputs": [
    {
     "name": "stdout",
     "output_type": "stream",
     "text": [
      "Scores: [-0.7  -0.71 -0.72 -0.68 -0.69 -0.71 -0.7  -0.72 -0.72 -0.67]\n",
      "Mean: -0.7011906598620664\n",
      "Standard deviation: 0.015511988129011604\n"
     ]
    }
   ],
   "source": [
    "from sklearn.tree import DecisionTreeRegressor\n",
    "\n",
    "tree_reg_grammar = DecisionTreeRegressor(max_depth = 5, random_state=RANDOM_SEED)\n",
    "\n",
    "tree_reg_grammar.fit(X_train, y_train['grammar'])\n",
    "\n",
    "tree_scores_grammar = cross_val_score(\n",
    "    tree_reg_grammar,\n",
    "    X_train,\n",
    "    y_train['grammar'],\n",
    "    cv=10,\n",
    "    scoring='neg_root_mean_squared_error',\n",
    "    n_jobs=-1\n",
    ")\n",
    "\n",
    "display_scores(tree_scores_grammar)"
   ]
  },
  {
   "cell_type": "markdown",
   "metadata": {},
   "source": [
    "Como resultados foram obtidos:\n",
    "\n",
    "- Erro médio quadrático aproximadamente igual a 0,70.\n",
    "- Desvio-padrão aproximadamente igual a 0,015.\n",
    "\n",
    "Observação: esquecemos de colocar o sinal de menos antes de printar as métricas, por isso estão negativas - já que foi calculado o erro médio quadrático negativo para cada parâmetro. Mas interprete como se os resultados obtidos estivessem positivos (em módulo)."
   ]
  },
  {
   "cell_type": "markdown",
   "metadata": {
    "id": "7yqS5ISRHyfS"
   },
   "source": [
    "**5 b) Decision Tree**\n",
    "\n",
    "Mais uma vez o processo será repetido, mas agora para a variável dependente *phraseology*:"
   ]
  },
  {
   "cell_type": "code",
   "execution_count": 95,
   "metadata": {
    "id": "zztQTkWRH1_o"
   },
   "outputs": [
    {
     "name": "stdout",
     "output_type": "stream",
     "text": [
      "Scores: [-0.69 -0.62 -0.65 -0.67 -0.66 -0.68 -0.67 -0.65 -0.68 -0.66]\n",
      "Mean: -0.662147527187264\n",
      "Standard deviation: 0.019145034553324176\n"
     ]
    }
   ],
   "source": [
    "tree_reg_phraseology = DecisionTreeRegressor(max_depth = 5, random_state=RANDOM_SEED)\n",
    "\n",
    "tree_reg_phraseology.fit(X_train, y_train['phraseology'])\n",
    "\n",
    "tree_scores_phraseology = cross_val_score(\n",
    "    tree_reg_phraseology,\n",
    "    X_train,\n",
    "    y_train['phraseology'],\n",
    "    cv=10,\n",
    "    scoring='neg_root_mean_squared_error',\n",
    "    n_jobs=-1\n",
    ")\n",
    "\n",
    "display_scores(tree_scores_phraseology)"
   ]
  },
  {
   "cell_type": "markdown",
   "metadata": {},
   "source": [
    "Como resultados foram obtidos:\n",
    "\n",
    "- Erro médio quadrático aproximadamente igual a 0,66.\n",
    "- Desvio-padrão aproximadamente igual a 0,019."
   ]
  },
  {
   "cell_type": "markdown",
   "metadata": {
    "id": "JA6_kjnuIGet"
   },
   "source": [
    "**5 c) Decision Tree**\n",
    "\n",
    "Agora faremos a validação cruzada utilizando o modelo do Descion Tree para o parâmetro *syntax*:"
   ]
  },
  {
   "cell_type": "code",
   "execution_count": 96,
   "metadata": {
    "id": "UJX5TpCdH_nH"
   },
   "outputs": [
    {
     "name": "stdout",
     "output_type": "stream",
     "text": [
      "Scores: [-0.69 -0.63 -0.68 -0.67 -0.66 -0.65 -0.66 -0.64 -0.64 -0.63]\n",
      "Mean: -0.6546246337312491\n",
      "Standard deviation: 0.01990367824644188\n"
     ]
    }
   ],
   "source": [
    "tree_reg_syntax = DecisionTreeRegressor(max_depth = 5, random_state=RANDOM_SEED)\n",
    "\n",
    "tree_reg_syntax.fit(X_train, y_train['syntax'])\n",
    "\n",
    "tree_scores_syntax = cross_val_score(\n",
    "    tree_reg_syntax,\n",
    "    X_train,\n",
    "    y_train['syntax'],\n",
    "    cv=10,\n",
    "    scoring='neg_root_mean_squared_error',\n",
    "    n_jobs=-1\n",
    ")\n",
    "\n",
    "display_scores(tree_scores_syntax)"
   ]
  },
  {
   "cell_type": "markdown",
   "metadata": {},
   "source": [
    "Como resultados foram obtidos:\n",
    "\n",
    "- Erro médio quadrático aproximadamente igual a 0,65\n",
    "- Desvio-padrão aproximadamente igual a 0,019."
   ]
  },
  {
   "cell_type": "markdown",
   "metadata": {
    "id": "dSJDdJEGIQf8"
   },
   "source": [
    "**5 d) Decision Tree**\n",
    "\n",
    "Repetindo o processo mas agora para a variável *cohesion*:"
   ]
  },
  {
   "cell_type": "code",
   "execution_count": 97,
   "metadata": {
    "id": "SwER4J1MIPWu"
   },
   "outputs": [
    {
     "name": "stdout",
     "output_type": "stream",
     "text": [
      "Scores: [-0.66 -0.64 -0.69 -0.66 -0.67 -0.68 -0.65 -0.68 -0.67 -0.69]\n",
      "Mean: -0.6697234397337308\n",
      "Standard deviation: 0.016892157885676728\n"
     ]
    }
   ],
   "source": [
    "tree_reg_cohesion = DecisionTreeRegressor(max_depth = 5, random_state=RANDOM_SEED)\n",
    "\n",
    "tree_reg_cohesion.fit(X_train, y_train['cohesion'])\n",
    "\n",
    "tree_scores_cohesion = cross_val_score(\n",
    "    tree_reg_cohesion,\n",
    "    X_train,\n",
    "    y_train['cohesion'],\n",
    "    cv=10,\n",
    "    scoring='neg_root_mean_squared_error',\n",
    "    n_jobs=-1\n",
    ")\n",
    "\n",
    "display_scores(tree_scores_cohesion)"
   ]
  },
  {
   "cell_type": "markdown",
   "metadata": {},
   "source": [
    "Como resultados foram obtidos:\n",
    "\n",
    "- Erro médio quadrático aproximadamente igual a 0,66.\n",
    "- Desvio-padrão aproximadamente igual a 0,017."
   ]
  },
  {
   "cell_type": "markdown",
   "metadata": {
    "id": "wlWiHg4YIYQ6"
   },
   "source": [
    "**5 e) Decision Tree**\n",
    "\n",
    "Mais uma vez o processo será feito, mas para o parâmetro *vocabulary*: "
   ]
  },
  {
   "cell_type": "code",
   "execution_count": 98,
   "metadata": {
    "id": "EcWrYERfIXiS"
   },
   "outputs": [
    {
     "name": "stdout",
     "output_type": "stream",
     "text": [
      "Scores: [-0.63 -0.57 -0.6  -0.58 -0.59 -0.57 -0.59 -0.59 -0.58 -0.56]\n",
      "Mean: -0.5857622538772691\n",
      "Standard deviation: 0.017340910405761235\n"
     ]
    }
   ],
   "source": [
    "tree_reg_vocabulary = DecisionTreeRegressor(max_depth = 5, random_state=RANDOM_SEED)\n",
    "\n",
    "tree_reg_vocabulary.fit(X_train, y_train['vocabulary'])\n",
    "\n",
    "tree_scores_vocabulary = cross_val_score(\n",
    "    tree_reg_vocabulary,\n",
    "    X_train,\n",
    "    y_train['vocabulary'],\n",
    "    cv=10,\n",
    "    scoring='neg_root_mean_squared_error',\n",
    "    n_jobs=-1\n",
    ")\n",
    "\n",
    "display_scores(tree_scores_vocabulary)"
   ]
  },
  {
   "cell_type": "markdown",
   "metadata": {},
   "source": [
    "Como resultados foram obtidos:\n",
    "\n",
    "- Erro médio quadrático aproximadamente igual a 0,58.\n",
    "- Desvio-padrão aproximadamente igual a 0,017."
   ]
  },
  {
   "cell_type": "markdown",
   "metadata": {
    "id": "VrpnTTW2IgcA"
   },
   "source": [
    "**5 f) Decision Tree**\n",
    "\n",
    "Por fim, será feita a validação cruzada para o parâmetro *conventions*:"
   ]
  },
  {
   "cell_type": "code",
   "execution_count": 99,
   "metadata": {
    "id": "h9YqsBhUIfiL"
   },
   "outputs": [
    {
     "name": "stdout",
     "output_type": "stream",
     "text": [
      "Scores: [-0.68 -0.72 -0.71 -0.71 -0.71 -0.65 -0.67 -0.67 -0.68 -0.66]\n",
      "Mean: -0.687073638564087\n",
      "Standard deviation: 0.023868595520648017\n"
     ]
    }
   ],
   "source": [
    "tree_reg_conventions = DecisionTreeRegressor(max_depth = 5, random_state=RANDOM_SEED)\n",
    "\n",
    "tree_reg_conventions.fit(X_train, y_train['conventions'])\n",
    "\n",
    "tree_scores_conventions = cross_val_score(\n",
    "    tree_reg_conventions,\n",
    "    X_train,\n",
    "    y_train['conventions'],\n",
    "    cv=10,\n",
    "    scoring='neg_root_mean_squared_error',\n",
    "    n_jobs=-1\n",
    ")\n",
    "\n",
    "display_scores(tree_scores_conventions)"
   ]
  },
  {
   "cell_type": "markdown",
   "metadata": {},
   "source": [
    "Como resultados foram obtidos:\n",
    "\n",
    "- Erro médio quadrático aproximadamente igual a 0,68.\n",
    "- Desvio-padrão aproximadamente igual a 0,023."
   ]
  },
  {
   "cell_type": "markdown",
   "metadata": {
    "id": "ThKlpSJsOO8m"
   },
   "source": [
    "#### MCRMSE Decision Tree\n",
    "\n",
    "Como estamos trabalhando com 6 variáveis dependentes diferentes, podemos fazer uma média de todos os erros obtidos para tentar estimar de maneira mais concisa e unificada o erro geral do modelo, que é o que foi feito abaixo:\n"
   ]
  },
  {
   "cell_type": "code",
   "execution_count": 100,
   "metadata": {
    "id": "BkAxoYmZIpQE"
   },
   "outputs": [
    {
     "data": {
      "text/plain": [
       "0.660087025492611"
      ]
     },
     "execution_count": 100,
     "metadata": {},
     "output_type": "execute_result"
    }
   ],
   "source": [
    "decision = np.mean([-tree_scores_conventions.mean() , -tree_scores_grammar.mean(), -tree_scores_vocabulary.mean(), -tree_scores_phraseology.mean(), -tree_scores_syntax.mean(), -tree_scores_cohesion.mean()])\n",
    "decision"
   ]
  },
  {
   "cell_type": "markdown",
   "metadata": {},
   "source": [
    "Dessa forma, podemos concluir que o mean root squared error médio para o modelo do Decision Tree é de aproximadamente 0,66 - maior que o erro médio obtido para os modelos anteriores, incluindo o SGD.\n",
    "\n",
    "Além disso, para depois conseguir plotar um diagrama de caixas e comparar o desempenho da validação cruzada para cada um dos modelos, juntamos todos os resultados obtidos pela execução do cross_val em uma lista."
   ]
  },
  {
   "cell_type": "code",
   "execution_count": 101,
   "metadata": {
    "id": "fZdKNqS_U39F"
   },
   "outputs": [
    {
     "data": {
      "text/plain": [
       "[0.6740060380734838,\n",
       " 0.6482926827407868,\n",
       " 0.6751492813256128,\n",
       " 0.6623545701520869,\n",
       " 0.6618901358489755,\n",
       " 0.6571079023222487,\n",
       " 0.65610668374576,\n",
       " 0.6566225916515127,\n",
       " 0.6635237143372775,\n",
       " 0.6458166547283661]"
      ]
     },
     "execution_count": 101,
     "metadata": {},
     "output_type": "execute_result"
    }
   ],
   "source": [
    "decision_means = []\n",
    "for i in range(len(tree_scores_conventions)):\n",
    "    decision_means.append(np.mean([-tree_scores_conventions[i], -tree_scores_grammar[i], -tree_scores_phraseology[i], -tree_scores_cohesion[i], -tree_scores_syntax[i], -tree_scores_vocabulary[i]]))\n",
    "\n",
    "decision_means"
   ]
  },
  {
   "cell_type": "markdown",
   "metadata": {
    "id": "9lmqI90GVUrx"
   },
   "source": [
    "# Box Plots da validação cruzada\n",
    "\n",
    "Abaixo, plotamos o gráfico da média dos erros médios quadráticos de cada modelo:"
   ]
  },
  {
   "cell_type": "code",
   "execution_count": 143,
   "metadata": {
    "colab": {
     "base_uri": "https://localhost:8080/",
     "height": 265
    },
    "id": "LsGIjp0cOotW",
    "outputId": "3526ac8d-d352-4cad-c8d0-c649c7755a97"
   },
   "outputs": [
    {
     "data": {
      "image/png": "[encoded data removed]",
      "text/plain": [
       "<Figure size 1000x400 with 1 Axes>"
      ]
     },
     "metadata": {},
     "output_type": "display_data"
    }
   ],
   "source": [
    "pd.DataFrame({\n",
    "    'SGD': [sgd],\n",
    "    'Random Forest': [random],\n",
    "    'Decision Tree': [decision],\n",
    "    'Linear Reg' : [linear],\n",
    "    'SVM': [svr]\n",
    "}).plot.box(\n",
    "    xlabel='Regressors',\n",
    "    ylabel=r'Root mean squared error',\n",
    "    figsize=(10, 4),\n",
    ");"
   ]
  },
  {
   "cell_type": "markdown",
   "metadata": {},
   "source": [
    "Agora, para melhor avaliação acerca do desempenho de cada modelo, plotamos um gráfico de diagrama de caixa que apresenta de maneira visual os valores da mediana, 1º (Q1) e 3º (Q3) quartis , além da variação e outliers.\n"
   ]
  },
  {
   "cell_type": "code",
   "execution_count": 144,
   "metadata": {
    "colab": {
     "base_uri": "https://localhost:8080/",
     "height": 485
    },
    "id": "V0gze6FDPeCR",
    "outputId": "488a1888-33a3-4ccf-fd75-1fd2fd38a04b"
   },
   "outputs": [
    {
     "data": {
      "image/png": "[encoded data removed]",
      "text/plain": [
       "<Figure size 1000x800 with 1 Axes>"
      ]
     },
     "metadata": {},
     "output_type": "display_data"
    }
   ],
   "source": [
    "pd.DataFrame({\n",
    "    'SGD': sgd_means,\n",
    "    'Random Forest': forest_means,\n",
    "    'Decision Tree': decision_means,\n",
    "    'Linear Reg' : linear_means,\n",
    "    'SVM': svr_means\n",
    "}).plot.box(\n",
    "    xlabel='Regressors',\n",
    "    ylabel=r'Root mean squared error',\n",
    "    figsize=(10, 8),\n",
    ");"
   ]
  },
  {
   "cell_type": "markdown",
   "metadata": {},
   "source": [
    "Como podemos observar, o Support Vector Regressor teve um melhor desempenho em comparação com os demais, isso porque é notável que embora ele possua muitos pontos acima da mediana, seu último ponto antes de Q3 + 1.5 IQ (IQ é a \"caixinha\") para mais e para menos - ou seja, antes do \"fio do bigode\" - ainda está bem abaixo dos demais modelos. Logo, pode ser concluido que o SVR foi o melhor modelo para o conjunto de dados que está sendo trabalhado."
   ]
  },
  {
   "cell_type": "markdown",
   "metadata": {},
   "source": [
    "# Ajuste de Hiperparâmetros"
   ]
  },
  {
   "cell_type": "markdown",
   "metadata": {
    "id": "PiZOIYdWWC1K"
   },
   "source": [
    "Depois de escolher o melhor modelo - Support Vector Regression -, podemos ajustar os hiperparâmetros relacionados a ele, como o epsilon (erro máximo), o parâmetro de regularização (C) e o kernel utilizado (linear, polinomial, entre outros). Para isso podemos usar o GridSearchCV que testa vários valores e vê o que funciona - uma abordagem força bruta . \n",
    "\n",
    "Vale lembrar que para a competição testamos os outros hiperparâmetros, porém, eles não apresentaram tantas melhoras em relação ao valor, sendo que o que mais impactou foi o parâmetro C. Portanto, deixamos apenas o GridSearch com o parâmetro C para o projeto, a fim de evitar que o código fique rodando por muito tempo mais tempo, já que o GridSearch com testes para apenas um hiperparâmetro demorou cerca de 24 minutos (isso considerando uma boa CPU). \n",
    "\n",
    "Assim, primeiro foram escolhidos alguns valores de hiperparâmetros e depois foram testadas todas as combinações para os valores do parâmetro de regularização: "
   ]
  },
  {
   "cell_type": "code",
   "execution_count": 105,
   "metadata": {
    "id": "fwLcQmNLWEsK"
   },
   "outputs": [
    {
     "name": "stdout",
     "output_type": "stream",
     "text": [
      "{'reg__C': 1}\n",
      "CPU times: user 1min 34s, sys: 8.41 s, total: 1min 43s\n",
      "Wall time: 24min 40s\n"
     ]
    }
   ],
   "source": [
    "%%time\n",
    "from sklearn.preprocessing import PolynomialFeatures\n",
    "from sklearn.pipeline import Pipeline\n",
    "from sklearn.svm import SVR\n",
    "from sklearn.model_selection import GridSearchCV, ShuffleSplit\n",
    "grid = GridSearchCV(\n",
    "    Pipeline([\n",
    "        ('reg', SVR(C=1, epsilon=0.1))\n",
    "    ]),\n",
    "    {\n",
    "        'reg__C': [10**k for k in range(-4, 7)],\n",
    "    },\n",
    "    scoring='neg_mean_squared_error',\n",
    "    cv=ShuffleSplit(\n",
    "        n_splits=100,\n",
    "        test_size=0.33,\n",
    "        random_state=RANDOM_SEED,\n",
    "    ),\n",
    "    n_jobs=-1,\n",
    ")\n",
    "grid.fit(X_train, y_train[\"grammar\"])\n",
    "print(grid.best_params_)"
   ]
  },
  {
   "cell_type": "markdown",
   "metadata": {},
   "source": [
    "Assim, com o GridSearch concluimos que o melhor valor para o hiperparâmetro é:\n",
    "    \n",
    "- C = 1"
   ]
  },
  {
   "cell_type": "markdown",
   "metadata": {},
   "source": [
    "# Teste Final\n",
    "\n",
    "\n",
    "Depois de ter encontrado o melhor modelo e ajustado seus hiperparâmetros, agora podemos por fim testá-lo nos dados de teste. Mas antes, vamos nos certificar de que o arquivo está sem nenhum problema e que pode ser lido:"
   ]
  },
  {
   "cell_type": "code",
   "execution_count": 119,
   "metadata": {},
   "outputs": [],
   "source": [
    "df_test = pd.read_csv('./test.csv')"
   ]
  },
  {
   "cell_type": "code",
   "execution_count": 124,
   "metadata": {},
   "outputs": [
    {
     "data": {
      "text/html": [
       "<div>\n",
       "<style scoped>\n",
       "    .dataframe tbody tr th:only-of-type {\n",
       "        vertical-align: middle;\n",
       "    }\n",
       "\n",
       "    .dataframe tbody tr th {\n",
       "        vertical-align: top;\n",
       "    }\n",
       "\n",
       "    .dataframe thead th {\n",
       "        text-align: right;\n",
       "    }\n",
       "</style>\n",
       "<table border=\"1\" class=\"dataframe\">\n",
       "  <thead>\n",
       "    <tr style=\"text-align: right;\">\n",
       "      <th></th>\n",
       "      <th>text_id</th>\n",
       "      <th>full_text</th>\n",
       "    </tr>\n",
       "  </thead>\n",
       "  <tbody>\n",
       "    <tr>\n",
       "      <th>0</th>\n",
       "      <td>0000C359D63E</td>\n",
       "      <td>when a person has no experience on a job their...</td>\n",
       "    </tr>\n",
       "    <tr>\n",
       "      <th>1</th>\n",
       "      <td>000BAD50D026</td>\n",
       "      <td>Do you think students would benefit from being...</td>\n",
       "    </tr>\n",
       "    <tr>\n",
       "      <th>2</th>\n",
       "      <td>00367BB2546B</td>\n",
       "      <td>Thomas Jefferson once states that \"it is wonde...</td>\n",
       "    </tr>\n",
       "  </tbody>\n",
       "</table>\n",
       "</div>"
      ],
      "text/plain": [
       "        text_id                                          full_text\n",
       "0  0000C359D63E  when a person has no experience on a job their...\n",
       "1  000BAD50D026  Do you think students would benefit from being...\n",
       "2  00367BB2546B  Thomas Jefferson once states that \"it is wonde..."
      ]
     },
     "execution_count": 124,
     "metadata": {},
     "output_type": "execute_result"
    }
   ],
   "source": [
    "df_test"
   ]
  },
  {
   "cell_type": "markdown",
   "metadata": {},
   "source": [
    "Além disso, assim como foi feito para o treinamento, precisamos processar os textos com o *sentence-t5* - que transformará cada texto em um tensor de 768 features numéricas. Para isso, primeiro começamos separando apenas os textos dos testes:"
   ]
  },
  {
   "cell_type": "code",
   "execution_count": 127,
   "metadata": {},
   "outputs": [],
   "source": [
    "test_texts = df_test['full_text']"
   ]
  },
  {
   "cell_type": "code",
   "execution_count": 129,
   "metadata": {},
   "outputs": [
    {
     "name": "stderr",
     "output_type": "stream",
     "text": [
      "WARNING:absl:Importing a function (__inference_<lambda>_9720) with ops with unsaved custom gradients. Will likely fail if a gradient is requested.\n",
      "WARNING:absl:Importing a function (__inference_<lambda>_3354) with ops with unsaved custom gradients. Will likely fail if a gradient is requested.\n",
      "WARNING:absl:Importing a function (__inference_<lambda>_6722) with ops with unsaved custom gradients. Will likely fail if a gradient is requested.\n"
     ]
    },
    {
     "name": "stdout",
     "output_type": "stream",
     "text": [
      "False\n"
     ]
    }
   ],
   "source": [
    "hub_url = \"https://tfhub.dev/google/sentence-t5/st5-base/1\"\n",
    "\n",
    "encoder_test = hub.KerasLayer(hub_url)\n",
    "tensor_list_test = []\n",
    "\n",
    "not_finish = True\n",
    "\n",
    "i = 0\n",
    "while not_finish:\n",
    "    tensor_list_test.append(encoder_test(test_texts[i:i+1])[0][0])\n",
    "    if i == 2:\n",
    "        not_finish = False\n",
    "    i +=1\n",
    "print(not_finish)"
   ]
  },
  {
   "cell_type": "markdown",
   "metadata": {},
   "source": [
    "Outrossim, como também já comentado anteriormente, o modelo que utilizaremos trabalha uma lista de arrays, logo precisamos converter o tipo do tensor através da biblioteca numpy:"
   ]
  },
  {
   "cell_type": "code",
   "execution_count": 130,
   "metadata": {},
   "outputs": [],
   "source": [
    "tensor_list_test = [item.numpy() for item in tensor_list_test]\n",
    "X_test = tensor_list_test"
   ]
  },
  {
   "cell_type": "markdown",
   "metadata": {},
   "source": [
    "Por fim, antes de comentar os testes, vale lembrar que os valores das notas dadas às 6 competências analisadas na escrita, variam em intervalos de 0.5, por isso a função abaixo foi necessária para arredondar os valores fracionários para o intervalo de 0.5 mais próximo:"
   ]
  },
  {
   "cell_type": "code",
   "execution_count": 134,
   "metadata": {},
   "outputs": [],
   "source": [
    "# Function taken from: https://bobbyhadz.com/blog/python-round-float-to-nearest-0-5#:~:text=Round%20a%20float%20Down%20to%20the%20nearest%200.5%20in%20Python%20%23&text=the%20nearest%200.5%3A-,Call%20the%20math.,down%20to%20the%20nearest%200.5%20.\n",
    "\n",
    "def round_to_nearest_half_int(num):\n",
    "    return round(num * 2) / 2"
   ]
  },
  {
   "cell_type": "markdown",
   "metadata": {},
   "source": [
    "# Predições das notas dos testes: \n",
    "\n",
    "Com tudo pronto, podemos utilizar o melhor estimador obtido para o modelo Support Vector Regression (SVR) pelo GridSearch para treinar os dados e depois prever as notas. E, como estamos lidando com seis variáveis dependentes, isto é, 6 targets diferentes, tivemos que repetir o processo para cada uma das seguintes competências: gramática, fraseologia, sintaxe, coesão, vocabulário e convenções. "
   ]
  },
  {
   "cell_type": "markdown",
   "metadata": {},
   "source": [
    "## Grammar"
   ]
  },
  {
   "cell_type": "code",
   "execution_count": 151,
   "metadata": {
    "scrolled": true
   },
   "outputs": [
    {
     "name": "stdout",
     "output_type": "stream",
     "text": [
      "2.5\n",
      "3.0\n",
      "3.5\n"
     ]
    },
    {
     "data": {
      "text/plain": [
       "array([2.66989047, 2.83628169, 3.31153158])"
      ]
     },
     "execution_count": 151,
     "metadata": {},
     "output_type": "execute_result"
    }
   ],
   "source": [
    "from sklearn.metrics import mean_squared_error\n",
    "\n",
    "model = grid.best_estimator_\n",
    "model.fit(X_train, y_train['grammar'])\n",
    "y_pred_grammar = model.predict(X_test)\n",
    "for item in y_pred_grammar:\n",
    "    print(round_to_nearest_half_int(item))\n",
    "y_pred_grammar"
   ]
  },
  {
   "cell_type": "markdown",
   "metadata": {},
   "source": [
    "Como tínhamos apenas 3 testes (o resto dos testes é testado pelo próprio Kaggle quando a tentativa para a competição é submetida), as seguintes notas foram preditas para em relação à gramática para eles: 2.5, 3.0 e 3.5."
   ]
  },
  {
   "cell_type": "markdown",
   "metadata": {},
   "source": [
    "## Phraseology"
   ]
  },
  {
   "cell_type": "code",
   "execution_count": 152,
   "metadata": {},
   "outputs": [
    {
     "name": "stdout",
     "output_type": "stream",
     "text": [
      "3.0\n",
      "3.0\n",
      "3.5\n"
     ]
    },
    {
     "data": {
      "text/plain": [
       "array([2.97436317, 2.9559276 , 3.48339588])"
      ]
     },
     "execution_count": 152,
     "metadata": {},
     "output_type": "execute_result"
    }
   ],
   "source": [
    "model = grid.best_estimator_\n",
    "model.fit(X_train, y_train['phraseology'])\n",
    "y_pred_phraseology = model.predict(X_test)\n",
    "for item in y_pred_phraseology:\n",
    "    print(round_to_nearest_half_int(item))\n",
    "y_pred_phraseology"
   ]
  },
  {
   "cell_type": "markdown",
   "metadata": {},
   "source": [
    "Notas preditas de fraseologia para os 3 testes: 3.0, 3.0 e 3.5."
   ]
  },
  {
   "cell_type": "markdown",
   "metadata": {},
   "source": [
    "## Syntax"
   ]
  },
  {
   "cell_type": "code",
   "execution_count": 153,
   "metadata": {},
   "outputs": [
    {
     "name": "stdout",
     "output_type": "stream",
     "text": [
      "2.5\n",
      "3.0\n",
      "3.0\n"
     ]
    },
    {
     "data": {
      "text/plain": [
       "array([2.72594042, 2.98162638, 3.18064156])"
      ]
     },
     "execution_count": 153,
     "metadata": {},
     "output_type": "execute_result"
    }
   ],
   "source": [
    "model = grid.best_estimator_\n",
    "model.fit(X_train, y_train['syntax'])\n",
    "y_pred_syntax = model.predict(X_test)\n",
    "for item in y_pred_syntax:\n",
    "    print(round_to_nearest_half_int(item))\n",
    "y_pred_syntax"
   ]
  },
  {
   "cell_type": "markdown",
   "metadata": {},
   "source": [
    "Notas preditas de sintaxe para os 3 testes: 2.5, 3.0 e 3.0."
   ]
  },
  {
   "cell_type": "markdown",
   "metadata": {},
   "source": [
    "## Cohesion"
   ]
  },
  {
   "cell_type": "code",
   "execution_count": 154,
   "metadata": {},
   "outputs": [
    {
     "name": "stdout",
     "output_type": "stream",
     "text": [
      "2.5\n",
      "3.0\n",
      "3.5\n"
     ]
    },
    {
     "data": {
      "text/plain": [
       "array([2.71871123, 3.12472236, 3.36982488])"
      ]
     },
     "execution_count": 154,
     "metadata": {},
     "output_type": "execute_result"
    }
   ],
   "source": [
    "model = grid.best_estimator_\n",
    "model.fit(X_train, y_train['cohesion'])\n",
    "y_pred_cohesion = model.predict(X_test)\n",
    "for item in y_pred_cohesion:\n",
    "    print(round_to_nearest_half_int(item))\n",
    "y_pred_cohesion"
   ]
  },
  {
   "cell_type": "markdown",
   "metadata": {},
   "source": [
    "Notas preditas de coesão para os 3 testes: 2.5, 3.0 e 3.5."
   ]
  },
  {
   "cell_type": "markdown",
   "metadata": {},
   "source": [
    "## Vocabulary"
   ]
  },
  {
   "cell_type": "code",
   "execution_count": 155,
   "metadata": {},
   "outputs": [
    {
     "name": "stdout",
     "output_type": "stream",
     "text": [
      "3.0\n",
      "3.0\n",
      "3.5\n"
     ]
    },
    {
     "data": {
      "text/plain": [
       "array([3.0593092 , 3.18472219, 3.45495217])"
      ]
     },
     "execution_count": 155,
     "metadata": {},
     "output_type": "execute_result"
    }
   ],
   "source": [
    "model = grid.best_estimator_\n",
    "model.fit(X_train, y_train['vocabulary'])\n",
    "y_pred_vocabulary = model.predict(X_test)\n",
    "for item in y_pred_vocabulary:\n",
    "    print(round_to_nearest_half_int(item))\n",
    "y_pred_vocabulary"
   ]
  },
  {
   "cell_type": "markdown",
   "metadata": {},
   "source": [
    "Notas preditas de vocabulário para os 3 testes: 3.0, 3.0 e 3.5."
   ]
  },
  {
   "cell_type": "markdown",
   "metadata": {},
   "source": [
    "## Conventions"
   ]
  },
  {
   "cell_type": "code",
   "execution_count": 156,
   "metadata": {},
   "outputs": [
    {
     "name": "stdout",
     "output_type": "stream",
     "text": [
      "2.5\n",
      "3.0\n",
      "3.5\n"
     ]
    },
    {
     "data": {
      "text/plain": [
       "array([2.68773469, 3.16304883, 3.40632615])"
      ]
     },
     "execution_count": 156,
     "metadata": {},
     "output_type": "execute_result"
    }
   ],
   "source": [
    "model = grid.best_estimator_\n",
    "model.fit(X_train, y_train['conventions'])\n",
    "y_pred_conventions = model.predict(X_test)\n",
    "for item in y_pred_conventions:\n",
    "    print(round_to_nearest_half_int(item))\n",
    "y_pred_conventions"
   ]
  },
  {
   "cell_type": "markdown",
   "metadata": {},
   "source": [
    "Notas preditas de convenções para os 3 testes: 2.5, 3.0 e 3.5."
   ]
  },
  {
   "cell_type": "markdown",
   "metadata": {},
   "source": [
    "É notável que a maioria das notas preditas está entre os valores que também havíamos notado que para o treinamento eram as notas mais comuns, ou seja, as predições continuaram seguindo a padronização da maioria dos outros textos."
   ]
  },
  {
   "cell_type": "markdown",
   "metadata": {},
   "source": [
    "Por fim, criamos um arquivo de submissão para a competição do Kaggle com todas as notas preditas anteriormente."
   ]
  },
  {
   "cell_type": "code",
   "execution_count": 160,
   "metadata": {},
   "outputs": [],
   "source": [
    "with open('submission.csv', 'w') as file:\n",
    "    file.write('text_id,cohesion,syntax,vocabulary,phraseology,grammar,conventions\\n')\n",
    "    for i in range(len(df_test)):\n",
    "        file.write(f\"{df_test['text_id'][i]},{round_to_nearest_half_int(y_pred_cohesion[i])},{round_to_nearest_half_int(y_pred_syntax[i])},{round_to_nearest_half_int(y_pred_vocabulary[i])},{round_to_nearest_half_int(y_pred_phraseology[i])},{round_to_nearest_half_int(y_pred_grammar[i])},{round_to_nearest_half_int(y_pred_conventions[i])}\\n\") "
   ]
  },
  {
   "cell_type": "markdown",
   "metadata": {},
   "source": [
    "# Desempenho no Kaggle"
   ]
  },
  {
   "cell_type": "markdown",
   "metadata": {},
   "source": [
    "Como dito anteriormente, os valores de notas preditos para os 3 testes não eram a totalidade de testes da competição, de tal forma que o conjunto total de testes abrange cerca de 2700 redações.\n",
    "\n",
    "Testando para esse conjunto de dados inteiro, nosso desempenho teve um MCRMSE de 0,56. Não foi um dos melhores resultados - já que o melhor alcançou 0,43 - mas também não foi um dos piores (principalmente considerando que fizemos isso tudo em um mês quando a competição já estava acontecendo há três meses). Ou seja, dadas as condições de limitação de tempo, conhecimento e recursos de máquina, foi um resultado satisfatório e razoável, mas que com certeza poderia melhorar mais.\n"
   ]
  },
  {
   "cell_type": "markdown",
   "metadata": {},
   "source": [
    "<img src=\"kaggle.jpeg\" width=700 height=400 />\n"
   ]
  },
  {
   "cell_type": "markdown",
   "metadata": {},
   "source": [
    "# Referências:\n",
    "\n",
    "- AYRES, J. Fábio. Todas as aulas e slides de Machine Learning. \n",
    "- YIU, Tony. \"Understanding Random Forest\". Disponível em: <https://towardsdatascience.com/understanding-random-forest-58381e0602d2>. Acesso em: 03/12/2022.\n",
    "- IBM. \"Regressão Linear: gere previsões usando uma fórmula matemática facilmente interpretada\". Disponível em <https://www.ibm.com/br-pt/analytics/learn/linear-regression#:~:text=O%20que%20%C3%A9%20regress%C3%A3o%20linear,%C3%A9%20chamada%20de%20vari%C3%A1vel%20independente.>. Acesso em: 03/12/2022.\n",
    "-  SHARP, Tom. \"An Introduction to Support Vector Regression (SVR)\". Disponível em: <https://towardsdatascience.com/an-introduction-to-support-vector-regression-svr-a3ebc1672c2 >. Acesso em: 03/12/2022.\n",
    "- GÉRON, Aurélien. \"Hands-on Machine Learning with Scikit-Learn, Keras, and TensorFlow\". Publicado por: O'Reilly Media Inc (2019).\n",
    "- GUPTA, Prashant. \"Decision Trees in Machine Learning\". Disponível em: <https://towardsdatascience.com/decision-trees-in-machine-learning-641b9c4e8052>. Acesso em: 03/12/2022. \n",
    "- SKLEARN. \"Documentation\". Disponível em: <https://scikit-learn.org/0.21/documentation.html>. Acesso em: 03/12/2022.\n",
    "- TENSORFLOW. \"Sentence-t5\". Disponível em: <https://tfhub.dev/google/sentence-t5/st5-base/1>. Acesso em: 03/12/2022.\n",
    "- PYTHON. \"Documentation\". Disponível em: <https://docs.python.org/3/>. Acesso em: 03/12/2022."
   ]
  },
  {
   "cell_type": "markdown",
   "metadata": {},
   "source": [
    "EOF"
   ]
  },
  {
   "cell_type": "code",
   "execution_count": null,
   "metadata": {},
   "outputs": [],
   "source": []
  }
 ],
 "metadata": {
  "accelerator": "GPU",
  "colab": {
   "collapsed_sections": [],
   "provenance": []
  },
  "gpuClass": "standard",
  "kernelspec": {
   "display_name": "Python 3",
   "language": "python",
   "name": "python3"
  },
  "language_info": {
   "codemirror_mode": {
    "name": "ipython",
    "version": 3
   },
   "file_extension": ".py",
   "mimetype": "text/x-python",
   "name": "python",
   "nbconvert_exporter": "python",
   "pygments_lexer": "ipython3",
   "version": "3.7.6"
  },
  "vscode": {
   "interpreter": {
    "hash": "81dd13798a4801bbbedbba87d9cc4f3b60e72b108591fc73b9238c55dd8f6d35"
   }
  }
 },
 "nbformat": 4,
 "nbformat_minor": 5
}
